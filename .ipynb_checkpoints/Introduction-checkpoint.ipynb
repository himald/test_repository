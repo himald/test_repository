{
 "cells": [
  {
   "cell_type": "markdown",
   "metadata": {},
   "source": [
    "# bqplot"
   ]
  },
  {
   "cell_type": "markdown",
   "metadata": {},
   "source": [
    "This notebook is meant to guide you through the first stages of using the `bqplot` visualization library. `bqplot` is a Grammar of Graphics based interactive visualization library for the Jupyter notebook where every single component of a plot is an interactive iPython widget. What this means is that even after a plot is drawn, you can change almost any aspect of it. This makes the creation of advanced Graphical User Interfaces attainable through just a few simple lines of Python code."
   ]
  },
  {
   "cell_type": "code",
   "execution_count": 1,
   "metadata": {},
   "outputs": [],
   "source": [
    "# Let's begin by importing some libraries we'll need\n",
    "import numpy as np\n",
    "from __future__ import print_function # So that this notebook becomes both Python 2 and Python 3 compatible"
   ]
  },
  {
   "cell_type": "code",
   "execution_count": 2,
   "metadata": {},
   "outputs": [],
   "source": [
    "# And creating some random data\n",
    "size = 100\n",
    "np.random.seed(0)\n",
    "x_data = np.arange(size)\n",
    "y_data = np.cumsum(np.random.randn(size)  * 100.0)"
   ]
  },
  {
   "cell_type": "markdown",
   "metadata": {},
   "source": [
    "## Your First Plot"
   ]
  },
  {
   "cell_type": "markdown",
   "metadata": {},
   "source": [
    "Let's start by creating a simple Line chart. `bqplot` has two different APIs, the first one is a `matplotlib` inspired simple API called `pyplot`. So let's import that."
   ]
  },
  {
   "cell_type": "code",
   "execution_count": 3,
   "metadata": {},
   "outputs": [],
   "source": [
    "from bqplot import pyplot as plt"
   ]
  },
  {
   "cell_type": "markdown",
   "metadata": {},
   "source": [
    "Let's plot `y_data` against `x_data`, and then `show` the plot."
   ]
  },
  {
   "cell_type": "code",
   "execution_count": 4,
   "metadata": {},
   "outputs": [
    {
     "name": "stderr",
     "output_type": "stream",
     "text": [
      "/Users/himal/miniconda3/lib/python3.6/site-packages/bqplot/pyplot.py:603: FutureWarning: Conversion of the second argument of issubdtype from `str` to `str` is deprecated. In future, it will be treated as `np.str_ == np.dtype(str).type`.\n",
      "  issubdtype(dtype, Scale.scale_types[key].dtype)\n"
     ]
    },
    {
     "data": {
      "application/vnd.jupyter.widget-view+json": {
       "model_id": "91481165c84c49e9ad2c1f6e4672d272",
       "version_major": 2,
       "version_minor": 0
      },
      "text/html": [
       "<p>Failed to display Jupyter Widget of type <code>VBox</code>.</p>\n",
       "<p>\n",
       "  If you're reading this message in the Jupyter Notebook or JupyterLab Notebook, it may mean\n",
       "  that the widgets JavaScript is still loading. If this message persists, it\n",
       "  likely means that the widgets JavaScript library is either not installed or\n",
       "  not enabled. See the <a href=\"https://ipywidgets.readthedocs.io/en/stable/user_install.html\">Jupyter\n",
       "  Widgets Documentation</a> for setup instructions.\n",
       "</p>\n",
       "<p>\n",
       "  If you're reading this message in another frontend (for example, a static\n",
       "  rendering on GitHub or <a href=\"https://nbviewer.jupyter.org/\">NBViewer</a>),\n",
       "  it may mean that your frontend doesn't currently support widgets.\n",
       "</p>\n"
      ],
      "text/plain": [
       "VBox(children=(Figure(axes=[Axis(scale=LinearScale()), Axis(orientation='vertical', scale=LinearScale())], fig_margin={'top': 60, 'bottom': 60, 'left': 60, 'right': 60}, layout=Layout(min_width='125px'), marks=[Lines(colors=['#1f77b4', '#ff7f0e', '#2ca02c', '#d62728', '#9467bd', '#8c564b', '#e377c2', '#7f7f7f', '#bcbd22', '#17becf'], interactions={'hover': 'tooltip'}, scales={'x': LinearScale(), 'y': LinearScale()}, scales_metadata={'x': {'orientation': 'horizontal', 'dimension': 'x'}, 'y': {'orientation': 'vertical', 'dimension': 'y'}, 'color': {'dimension': 'color'}}, tooltip_style={'opacity': 0.9}, x=array([ 0,  1,  2,  3,  4,  5,  6,  7,  8,  9, 10, 11, 12, 13, 14, 15, 16,\n",
       "       17, 18, 19, 20, 21, 22, 23, 24, 25, 26, 27, 28, 29, 30, 31, 32, 33,\n",
       "       34, 35, 36, 37, 38, 39, 40, 41, 42, 43, 44, 45, 46, 47, 48, 49, 50,\n",
       "       51, 52, 53, 54, 55, 56, 57, 58, 59, 60, 61, 62, 63, 64, 65, 66, 67,\n",
       "       68, 69, 70, 71, 72, 73, 74, 75, 76, 77, 78, 79, 80, 81, 82, 83, 84,\n",
       "       85, 86, 87, 88, 89, 90, 91, 92, 93, 94, 95, 96, 97, 98, 99]), y=array([ 176.4052346 ,  216.42095543,  314.29475384,  538.38407376,\n",
       "        725.13987278,  627.41208479,  722.42092654,  707.28520571,\n",
       "        696.96332053,  738.02317073,  752.42752784,  897.85487854,\n",
       "        973.95865106,  986.12615271, 1030.51247598, 1063.87990872,\n",
       "       1213.28781603, 1192.77198966, 1224.07875982, 1138.66918589,\n",
       "        883.37020431,  948.73206385, 1035.17568374,  960.9591817 ,\n",
       "       1187.9346441 , 1042.49807664, 1047.07392837, 1028.35554336,\n",
       "       1181.6334648 , 1328.56934179, 1344.06408436, 1381.88033632,\n",
       "       1293.10176156, 1095.02211473, 1060.2308998 , 1075.86579671,\n",
       "       1198.89486478, 1319.13284966, 1280.40016792, 1250.16989286,\n",
       "       1145.31459636, 1003.31280264,  832.68578358, 1027.7633231 ,\n",
       "        976.79810493,  932.99067476,  807.71113876,  885.46017434,\n",
       "        724.07038959,  702.79636157,  613.24970545,  651.93995523,\n",
       "        600.85944148,  482.79622306,  479.97800023,  522.81118728,\n",
       "        529.46290952,  559.71009929,  496.27788993,  460.00377333,\n",
       "        392.75772855,  356.8024124 ,  275.48778419,  102.85952396,\n",
       "        120.60213818,   80.42404456,  -82.59579013,  -36.31756458,\n",
       "       -127.04740102, -121.85286144,  -48.94380522,  -36.04551415,\n",
       "         77.89455431,  -45.58802773,   -5.35386361,  -73.8348727 ,\n",
       "       -160.91458762, -218.7995541 , -249.95480731, -244.33827309,\n",
       "       -360.85325717, -270.77060847, -224.2043645 , -377.82873313,\n",
       "       -229.00351375,  -39.41459614,   78.46336097,   60.47087739,\n",
       "        -46.60438476,   58.84078793,   18.52309324,  140.76760027,\n",
       "        161.59509808,  259.25900173,  294.89564145,  365.55295827,\n",
       "        366.60296034,  545.19000973,  557.881219  ,  598.08015534]))], scale_x=LinearScale(allow_padding=False, max=1.0, min=0.0), scale_y=LinearScale(allow_padding=False, max=1.0, min=0.0), title='My First Plot'), Toolbar(figure=Figure(axes=[Axis(scale=LinearScale()), Axis(orientation='vertical', scale=LinearScale())], fig_margin={'top': 60, 'bottom': 60, 'left': 60, 'right': 60}, layout=Layout(min_width='125px'), marks=[Lines(colors=['#1f77b4', '#ff7f0e', '#2ca02c', '#d62728', '#9467bd', '#8c564b', '#e377c2', '#7f7f7f', '#bcbd22', '#17becf'], interactions={'hover': 'tooltip'}, scales={'x': LinearScale(), 'y': LinearScale()}, scales_metadata={'x': {'orientation': 'horizontal', 'dimension': 'x'}, 'y': {'orientation': 'vertical', 'dimension': 'y'}, 'color': {'dimension': 'color'}}, tooltip_style={'opacity': 0.9}, x=array([ 0,  1,  2,  3,  4,  5,  6,  7,  8,  9, 10, 11, 12, 13, 14, 15, 16,\n",
       "       17, 18, 19, 20, 21, 22, 23, 24, 25, 26, 27, 28, 29, 30, 31, 32, 33,\n",
       "       34, 35, 36, 37, 38, 39, 40, 41, 42, 43, 44, 45, 46, 47, 48, 49, 50,\n",
       "       51, 52, 53, 54, 55, 56, 57, 58, 59, 60, 61, 62, 63, 64, 65, 66, 67,\n",
       "       68, 69, 70, 71, 72, 73, 74, 75, 76, 77, 78, 79, 80, 81, 82, 83, 84,\n",
       "       85, 86, 87, 88, 89, 90, 91, 92, 93, 94, 95, 96, 97, 98, 99]), y=array([ 176.4052346 ,  216.42095543,  314.29475384,  538.38407376,\n",
       "        725.13987278,  627.41208479,  722.42092654,  707.28520571,\n",
       "        696.96332053,  738.02317073,  752.42752784,  897.85487854,\n",
       "        973.95865106,  986.12615271, 1030.51247598, 1063.87990872,\n",
       "       1213.28781603, 1192.77198966, 1224.07875982, 1138.66918589,\n",
       "        883.37020431,  948.73206385, 1035.17568374,  960.9591817 ,\n",
       "       1187.9346441 , 1042.49807664, 1047.07392837, 1028.35554336,\n",
       "       1181.6334648 , 1328.56934179, 1344.06408436, 1381.88033632,\n",
       "       1293.10176156, 1095.02211473, 1060.2308998 , 1075.86579671,\n",
       "       1198.89486478, 1319.13284966, 1280.40016792, 1250.16989286,\n",
       "       1145.31459636, 1003.31280264,  832.68578358, 1027.7633231 ,\n",
       "        976.79810493,  932.99067476,  807.71113876,  885.46017434,\n",
       "        724.07038959,  702.79636157,  613.24970545,  651.93995523,\n",
       "        600.85944148,  482.79622306,  479.97800023,  522.81118728,\n",
       "        529.46290952,  559.71009929,  496.27788993,  460.00377333,\n",
       "        392.75772855,  356.8024124 ,  275.48778419,  102.85952396,\n",
       "        120.60213818,   80.42404456,  -82.59579013,  -36.31756458,\n",
       "       -127.04740102, -121.85286144,  -48.94380522,  -36.04551415,\n",
       "         77.89455431,  -45.58802773,   -5.35386361,  -73.8348727 ,\n",
       "       -160.91458762, -218.7995541 , -249.95480731, -244.33827309,\n",
       "       -360.85325717, -270.77060847, -224.2043645 , -377.82873313,\n",
       "       -229.00351375,  -39.41459614,   78.46336097,   60.47087739,\n",
       "        -46.60438476,   58.84078793,   18.52309324,  140.76760027,\n",
       "        161.59509808,  259.25900173,  294.89564145,  365.55295827,\n",
       "        366.60296034,  545.19000973,  557.881219  ,  598.08015534]))], scale_x=LinearScale(allow_padding=False, max=1.0, min=0.0), scale_y=LinearScale(allow_padding=False, max=1.0, min=0.0), title='My First Plot'))))"
      ]
     },
     "metadata": {},
     "output_type": "display_data"
    }
   ],
   "source": [
    "plt.figure(title='My First Plot')\n",
    "plt.plot(x_data, y_data)\n",
    "plt.show()"
   ]
  },
  {
   "cell_type": "markdown",
   "metadata": {},
   "source": [
    "Use the buttons above to Pan (or Zoom), Reset or save the Figure."
   ]
  },
  {
   "cell_type": "markdown",
   "metadata": {},
   "source": [
    "## Using `bqplot`'s interactive elements"
   ]
  },
  {
   "cell_type": "markdown",
   "metadata": {},
   "source": [
    "Now, let's try creating a new plot. First, we create a brand new `Figure`. The `Figure` is the final element of any plot that is eventually displayed. You can think of it as a Canvas on which we put all of our other plots."
   ]
  },
  {
   "cell_type": "code",
   "execution_count": 5,
   "metadata": {},
   "outputs": [
    {
     "data": {
      "application/vnd.jupyter.widget-view+json": {
       "model_id": "b9800b430b124c24961bf69896d1c7f2",
       "version_major": 2,
       "version_minor": 0
      },
      "text/html": [
       "<p>Failed to display Jupyter Widget of type <code>Figure</code>.</p>\n",
       "<p>\n",
       "  If you're reading this message in the Jupyter Notebook or JupyterLab Notebook, it may mean\n",
       "  that the widgets JavaScript is still loading. If this message persists, it\n",
       "  likely means that the widgets JavaScript library is either not installed or\n",
       "  not enabled. See the <a href=\"https://ipywidgets.readthedocs.io/en/stable/user_install.html\">Jupyter\n",
       "  Widgets Documentation</a> for setup instructions.\n",
       "</p>\n",
       "<p>\n",
       "  If you're reading this message in another frontend (for example, a static\n",
       "  rendering on GitHub or <a href=\"https://nbviewer.jupyter.org/\">NBViewer</a>),\n",
       "  it may mean that your frontend doesn't currently support widgets.\n",
       "</p>\n"
      ],
      "text/plain": [
       "Figure(fig_margin={'top': 60, 'bottom': 60, 'left': 60, 'right': 60}, layout=Layout(min_width='125px'), scale_x=LinearScale(allow_padding=False, max=1.0, min=0.0), scale_y=LinearScale(allow_padding=False, max=1.0, min=0.0), title='My Second Chart')"
      ]
     },
     "metadata": {},
     "output_type": "display_data"
    }
   ],
   "source": [
    "# Creating a new Figure and setting it's title\n",
    "plt.figure(title='My Second Chart')"
   ]
  },
  {
   "cell_type": "code",
   "execution_count": 6,
   "metadata": {},
   "outputs": [
    {
     "name": "stderr",
     "output_type": "stream",
     "text": [
      "/Users/himal/miniconda3/lib/python3.6/site-packages/bqplot/pyplot.py:603: FutureWarning: Conversion of the second argument of issubdtype from `str` to `str` is deprecated. In future, it will be treated as `np.str_ == np.dtype(str).type`.\n",
      "  issubdtype(dtype, Scale.scale_types[key].dtype)\n"
     ]
    }
   ],
   "source": [
    "# Let's assign the scatter plot to a variable\n",
    "scatter_plot = plt.scatter(x_data, y_data)"
   ]
  },
  {
   "cell_type": "code",
   "execution_count": 7,
   "metadata": {
    "scrolled": true
   },
   "outputs": [
    {
     "data": {
      "application/vnd.jupyter.widget-view+json": {
       "model_id": "7bd7ba5442bc4a81ba39b51c653736f6",
       "version_major": 2,
       "version_minor": 0
      },
      "text/html": [
       "<p>Failed to display Jupyter Widget of type <code>VBox</code>.</p>\n",
       "<p>\n",
       "  If you're reading this message in the Jupyter Notebook or JupyterLab Notebook, it may mean\n",
       "  that the widgets JavaScript is still loading. If this message persists, it\n",
       "  likely means that the widgets JavaScript library is either not installed or\n",
       "  not enabled. See the <a href=\"https://ipywidgets.readthedocs.io/en/stable/user_install.html\">Jupyter\n",
       "  Widgets Documentation</a> for setup instructions.\n",
       "</p>\n",
       "<p>\n",
       "  If you're reading this message in another frontend (for example, a static\n",
       "  rendering on GitHub or <a href=\"https://nbviewer.jupyter.org/\">NBViewer</a>),\n",
       "  it may mean that your frontend doesn't currently support widgets.\n",
       "</p>\n"
      ],
      "text/plain": [
       "VBox(children=(Figure(axes=[Axis(scale=LinearScale()), Axis(orientation='vertical', scale=LinearScale())], fig_margin={'top': 60, 'bottom': 60, 'left': 60, 'right': 60}, layout=Layout(min_width='125px'), marks=[Scatter(colors=['steelblue'], interactions={'hover': 'tooltip'}, scales={'x': LinearScale(), 'y': LinearScale()}, scales_metadata={'x': {'orientation': 'horizontal', 'dimension': 'x'}, 'y': {'orientation': 'vertical', 'dimension': 'y'}, 'color': {'dimension': 'color'}, 'size': {'dimension': 'size'}, 'opacity': {'dimension': 'opacity'}, 'rotation': {'dimension': 'rotation'}, 'skew': {'dimension': 'skew'}}, tooltip_style={'opacity': 0.9}, x=array([ 0,  1,  2,  3,  4,  5,  6,  7,  8,  9, 10, 11, 12, 13, 14, 15, 16,\n",
       "       17, 18, 19, 20, 21, 22, 23, 24, 25, 26, 27, 28, 29, 30, 31, 32, 33,\n",
       "       34, 35, 36, 37, 38, 39, 40, 41, 42, 43, 44, 45, 46, 47, 48, 49, 50,\n",
       "       51, 52, 53, 54, 55, 56, 57, 58, 59, 60, 61, 62, 63, 64, 65, 66, 67,\n",
       "       68, 69, 70, 71, 72, 73, 74, 75, 76, 77, 78, 79, 80, 81, 82, 83, 84,\n",
       "       85, 86, 87, 88, 89, 90, 91, 92, 93, 94, 95, 96, 97, 98, 99]), y=array([ 176.4052346 ,  216.42095543,  314.29475384,  538.38407376,\n",
       "        725.13987278,  627.41208479,  722.42092654,  707.28520571,\n",
       "        696.96332053,  738.02317073,  752.42752784,  897.85487854,\n",
       "        973.95865106,  986.12615271, 1030.51247598, 1063.87990872,\n",
       "       1213.28781603, 1192.77198966, 1224.07875982, 1138.66918589,\n",
       "        883.37020431,  948.73206385, 1035.17568374,  960.9591817 ,\n",
       "       1187.9346441 , 1042.49807664, 1047.07392837, 1028.35554336,\n",
       "       1181.6334648 , 1328.56934179, 1344.06408436, 1381.88033632,\n",
       "       1293.10176156, 1095.02211473, 1060.2308998 , 1075.86579671,\n",
       "       1198.89486478, 1319.13284966, 1280.40016792, 1250.16989286,\n",
       "       1145.31459636, 1003.31280264,  832.68578358, 1027.7633231 ,\n",
       "        976.79810493,  932.99067476,  807.71113876,  885.46017434,\n",
       "        724.07038959,  702.79636157,  613.24970545,  651.93995523,\n",
       "        600.85944148,  482.79622306,  479.97800023,  522.81118728,\n",
       "        529.46290952,  559.71009929,  496.27788993,  460.00377333,\n",
       "        392.75772855,  356.8024124 ,  275.48778419,  102.85952396,\n",
       "        120.60213818,   80.42404456,  -82.59579013,  -36.31756458,\n",
       "       -127.04740102, -121.85286144,  -48.94380522,  -36.04551415,\n",
       "         77.89455431,  -45.58802773,   -5.35386361,  -73.8348727 ,\n",
       "       -160.91458762, -218.7995541 , -249.95480731, -244.33827309,\n",
       "       -360.85325717, -270.77060847, -224.2043645 , -377.82873313,\n",
       "       -229.00351375,  -39.41459614,   78.46336097,   60.47087739,\n",
       "        -46.60438476,   58.84078793,   18.52309324,  140.76760027,\n",
       "        161.59509808,  259.25900173,  294.89564145,  365.55295827,\n",
       "        366.60296034,  545.19000973,  557.881219  ,  598.08015534]))], scale_x=LinearScale(allow_padding=False, max=1.0, min=0.0), scale_y=LinearScale(allow_padding=False, max=1.0, min=0.0), title='My Second Chart'), Toolbar(figure=Figure(axes=[Axis(scale=LinearScale()), Axis(orientation='vertical', scale=LinearScale())], fig_margin={'top': 60, 'bottom': 60, 'left': 60, 'right': 60}, layout=Layout(min_width='125px'), marks=[Scatter(colors=['steelblue'], interactions={'hover': 'tooltip'}, scales={'x': LinearScale(), 'y': LinearScale()}, scales_metadata={'x': {'orientation': 'horizontal', 'dimension': 'x'}, 'y': {'orientation': 'vertical', 'dimension': 'y'}, 'color': {'dimension': 'color'}, 'size': {'dimension': 'size'}, 'opacity': {'dimension': 'opacity'}, 'rotation': {'dimension': 'rotation'}, 'skew': {'dimension': 'skew'}}, tooltip_style={'opacity': 0.9}, x=array([ 0,  1,  2,  3,  4,  5,  6,  7,  8,  9, 10, 11, 12, 13, 14, 15, 16,\n",
       "       17, 18, 19, 20, 21, 22, 23, 24, 25, 26, 27, 28, 29, 30, 31, 32, 33,\n",
       "       34, 35, 36, 37, 38, 39, 40, 41, 42, 43, 44, 45, 46, 47, 48, 49, 50,\n",
       "       51, 52, 53, 54, 55, 56, 57, 58, 59, 60, 61, 62, 63, 64, 65, 66, 67,\n",
       "       68, 69, 70, 71, 72, 73, 74, 75, 76, 77, 78, 79, 80, 81, 82, 83, 84,\n",
       "       85, 86, 87, 88, 89, 90, 91, 92, 93, 94, 95, 96, 97, 98, 99]), y=array([ 176.4052346 ,  216.42095543,  314.29475384,  538.38407376,\n",
       "        725.13987278,  627.41208479,  722.42092654,  707.28520571,\n",
       "        696.96332053,  738.02317073,  752.42752784,  897.85487854,\n",
       "        973.95865106,  986.12615271, 1030.51247598, 1063.87990872,\n",
       "       1213.28781603, 1192.77198966, 1224.07875982, 1138.66918589,\n",
       "        883.37020431,  948.73206385, 1035.17568374,  960.9591817 ,\n",
       "       1187.9346441 , 1042.49807664, 1047.07392837, 1028.35554336,\n",
       "       1181.6334648 , 1328.56934179, 1344.06408436, 1381.88033632,\n",
       "       1293.10176156, 1095.02211473, 1060.2308998 , 1075.86579671,\n",
       "       1198.89486478, 1319.13284966, 1280.40016792, 1250.16989286,\n",
       "       1145.31459636, 1003.31280264,  832.68578358, 1027.7633231 ,\n",
       "        976.79810493,  932.99067476,  807.71113876,  885.46017434,\n",
       "        724.07038959,  702.79636157,  613.24970545,  651.93995523,\n",
       "        600.85944148,  482.79622306,  479.97800023,  522.81118728,\n",
       "        529.46290952,  559.71009929,  496.27788993,  460.00377333,\n",
       "        392.75772855,  356.8024124 ,  275.48778419,  102.85952396,\n",
       "        120.60213818,   80.42404456,  -82.59579013,  -36.31756458,\n",
       "       -127.04740102, -121.85286144,  -48.94380522,  -36.04551415,\n",
       "         77.89455431,  -45.58802773,   -5.35386361,  -73.8348727 ,\n",
       "       -160.91458762, -218.7995541 , -249.95480731, -244.33827309,\n",
       "       -360.85325717, -270.77060847, -224.2043645 , -377.82873313,\n",
       "       -229.00351375,  -39.41459614,   78.46336097,   60.47087739,\n",
       "        -46.60438476,   58.84078793,   18.52309324,  140.76760027,\n",
       "        161.59509808,  259.25900173,  294.89564145,  365.55295827,\n",
       "        366.60296034,  545.19000973,  557.881219  ,  598.08015534]))], scale_x=LinearScale(allow_padding=False, max=1.0, min=0.0), scale_y=LinearScale(allow_padding=False, max=1.0, min=0.0), title='My Second Chart'))))"
      ]
     },
     "metadata": {},
     "output_type": "display_data"
    }
   ],
   "source": [
    "# Let's show the plot\n",
    "plt.show()"
   ]
  },
  {
   "cell_type": "markdown",
   "metadata": {},
   "source": [
    "Since both the x and the y attributes of a bqplot chart are interactive widgets, we can change them. So, let's \n",
    "change the y attribute of the chart."
   ]
  },
  {
   "cell_type": "code",
   "execution_count": 8,
   "metadata": {},
   "outputs": [],
   "source": [
    "scatter_plot.y = np.cumsum(np.random.randn(size)  * 100.0)"
   ]
  },
  {
   "cell_type": "markdown",
   "metadata": {},
   "source": [
    "Re-run the above cell a few times, the same plot should update everytime. But, thats not the only thing that can be changed once a plot has been rendered. Let's try changing some of the other attributes."
   ]
  },
  {
   "cell_type": "code",
   "execution_count": 9,
   "metadata": {},
   "outputs": [],
   "source": [
    "# Say, the color\n",
    "scatter_plot.colors = ['Red']"
   ]
  },
  {
   "cell_type": "code",
   "execution_count": 10,
   "metadata": {},
   "outputs": [],
   "source": [
    "# Or, the marker style\n",
    "scatter_plot.marker = 'diamond'"
   ]
  },
  {
   "cell_type": "markdown",
   "metadata": {},
   "source": [
    "It's important to remember that an interactive widget means that the `JavaScript` and the `Python` communicate. So, the plot can be changed through a single line of python code, or a piece of python code can be triggered by a change in the plot. Let's go through a simple example. Say we have a function `foo`:"
   ]
  },
  {
   "cell_type": "code",
   "execution_count": 11,
   "metadata": {},
   "outputs": [],
   "source": [
    "def foo(change):\n",
    "    print('This is a trait change. Foo was called by the fact that we moved the Scatter')\n",
    "    print('In fact, the Scatter plot sent us all the new data: ')\n",
    "    print('To access the data, try modifying the function and printing the data variable')"
   ]
  },
  {
   "cell_type": "markdown",
   "metadata": {},
   "source": [
    "We can call `foo` everytime any attribute of our scatter is changed. Say, the `y` values:"
   ]
  },
  {
   "cell_type": "code",
   "execution_count": 12,
   "metadata": {},
   "outputs": [],
   "source": [
    "# First, we hook up our function `foo` to the colors attribute (or Trait) of the scatter plot\n",
    "scatter_plot.observe(foo, 'y')"
   ]
  },
  {
   "cell_type": "markdown",
   "metadata": {},
   "source": [
    "To allow the points in the `Scatter` to be moved interactively, we set the `enable_move` attribute to `True`"
   ]
  },
  {
   "cell_type": "code",
   "execution_count": 13,
   "metadata": {},
   "outputs": [],
   "source": [
    "scatter_plot.enable_move = True"
   ]
  },
  {
   "cell_type": "markdown",
   "metadata": {},
   "source": [
    "Go ahead, head over to the chart and move any point in some way. This move (which happens on the `JavaScript` side should trigger our `Python` function `foo`."
   ]
  },
  {
   "cell_type": "markdown",
   "metadata": {
    "collapsed": true
   },
   "source": [
    "## Understanding how bqplot uses the Grammar of Graphics paradigm"
   ]
  },
  {
   "cell_type": "markdown",
   "metadata": {},
   "source": [
    "`bqplot` has two different APIs. One is the matplotlib inspired `pyplot` which we used above (you can think of it as similar to `qplot` in `ggplot2`). The other one, the verbose API, is meant to expose every element of a plot individually, so that their attriutes can be controlled in an atomic way. In order to truly use `bqplot` to build complex and feature-rich GUIs, it pays to understand the underlying theory that is used to create a plot."
   ]
  },
  {
   "cell_type": "markdown",
   "metadata": {},
   "source": [
    "To understand this verbose API, it helps to revisit what exactly the components of a plot are. The first thing we need is a `Scale`."
   ]
  },
  {
   "cell_type": "markdown",
   "metadata": {},
   "source": [
    "**A `Scale` is a mapping from (function that converts) data coordinates to figure coordinates.** What this means is that, a `Scale` takes a set of values in any arbitrary unit (say number of people, or $, or litres) and converts it to pixels (or colors for a `ColorScale`)."
   ]
  },
  {
   "cell_type": "code",
   "execution_count": 14,
   "metadata": {},
   "outputs": [],
   "source": [
    "# First, we import the scales\n",
    "from bqplot import LinearScale"
   ]
  },
  {
   "cell_type": "code",
   "execution_count": 15,
   "metadata": {},
   "outputs": [],
   "source": [
    "# Let's create a scale for the x attribute, and a scale for the y attribute\n",
    "x_sc = LinearScale()\n",
    "y_sc = LinearScale()"
   ]
  },
  {
   "cell_type": "markdown",
   "metadata": {},
   "source": [
    "Now, we need to create the actual `Mark` that will visually represent the data. Let's pick a `Scatter` chart to start."
   ]
  },
  {
   "cell_type": "code",
   "execution_count": 16,
   "metadata": {},
   "outputs": [],
   "source": [
    "from bqplot import Scatter"
   ]
  },
  {
   "cell_type": "code",
   "execution_count": 17,
   "metadata": {},
   "outputs": [],
   "source": [
    "scatter_chart = Scatter(x=x_data, y=y_data, scales={'x': x_sc, 'y': y_sc})"
   ]
  },
  {
   "cell_type": "markdown",
   "metadata": {},
   "source": [
    "Most of the time, the actual `Figure` co-ordinates don't really mean anything to us. So, what we need is the visual representation of our `Scale`, which is called an `Axis`."
   ]
  },
  {
   "cell_type": "code",
   "execution_count": 18,
   "metadata": {},
   "outputs": [],
   "source": [
    "from bqplot import Axis"
   ]
  },
  {
   "cell_type": "code",
   "execution_count": 19,
   "metadata": {},
   "outputs": [],
   "source": [
    "x_ax = Axis(label='X', scale=x_sc)\n",
    "y_ax = Axis(label='Y', scale=y_sc, orientation='vertical')"
   ]
  },
  {
   "cell_type": "markdown",
   "metadata": {},
   "source": [
    "And finally, we put it all together on a canvas, which is called a `Figure`."
   ]
  },
  {
   "cell_type": "code",
   "execution_count": 20,
   "metadata": {},
   "outputs": [],
   "source": [
    "from bqplot import Figure"
   ]
  },
  {
   "cell_type": "code",
   "execution_count": 21,
   "metadata": {},
   "outputs": [
    {
     "data": {
      "application/vnd.jupyter.widget-view+json": {
       "model_id": "6ea92b7c93f545429e471cd8c9794946",
       "version_major": 2,
       "version_minor": 0
      },
      "text/html": [
       "<p>Failed to display Jupyter Widget of type <code>Figure</code>.</p>\n",
       "<p>\n",
       "  If you're reading this message in the Jupyter Notebook or JupyterLab Notebook, it may mean\n",
       "  that the widgets JavaScript is still loading. If this message persists, it\n",
       "  likely means that the widgets JavaScript library is either not installed or\n",
       "  not enabled. See the <a href=\"https://ipywidgets.readthedocs.io/en/stable/user_install.html\">Jupyter\n",
       "  Widgets Documentation</a> for setup instructions.\n",
       "</p>\n",
       "<p>\n",
       "  If you're reading this message in another frontend (for example, a static\n",
       "  rendering on GitHub or <a href=\"https://nbviewer.jupyter.org/\">NBViewer</a>),\n",
       "  it may mean that your frontend doesn't currently support widgets.\n",
       "</p>\n"
      ],
      "text/plain": [
       "Figure(axes=[Axis(label='X', scale=LinearScale()), Axis(label='Y', orientation='vertical', scale=LinearScale())], fig_margin={'top': 60, 'bottom': 60, 'left': 60, 'right': 60}, layout=Layout(min_width='125px'), marks=[Scatter(colors=['steelblue'], interactions={'hover': 'tooltip'}, scales={'x': LinearScale(), 'y': LinearScale()}, scales_metadata={'x': {'orientation': 'horizontal', 'dimension': 'x'}, 'y': {'orientation': 'vertical', 'dimension': 'y'}, 'color': {'dimension': 'color'}, 'size': {'dimension': 'size'}, 'opacity': {'dimension': 'opacity'}, 'rotation': {'dimension': 'rotation'}, 'skew': {'dimension': 'skew'}}, tooltip_style={'opacity': 0.9}, x=array([ 0,  1,  2,  3,  4,  5,  6,  7,  8,  9, 10, 11, 12, 13, 14, 15, 16,\n",
       "       17, 18, 19, 20, 21, 22, 23, 24, 25, 26, 27, 28, 29, 30, 31, 32, 33,\n",
       "       34, 35, 36, 37, 38, 39, 40, 41, 42, 43, 44, 45, 46, 47, 48, 49, 50,\n",
       "       51, 52, 53, 54, 55, 56, 57, 58, 59, 60, 61, 62, 63, 64, 65, 66, 67,\n",
       "       68, 69, 70, 71, 72, 73, 74, 75, 76, 77, 78, 79, 80, 81, 82, 83, 84,\n",
       "       85, 86, 87, 88, 89, 90, 91, 92, 93, 94, 95, 96, 97, 98, 99]), y=array([ 176.4052346 ,  216.42095543,  314.29475384,  538.38407376,\n",
       "        725.13987278,  627.41208479,  722.42092654,  707.28520571,\n",
       "        696.96332053,  738.02317073,  752.42752784,  897.85487854,\n",
       "        973.95865106,  986.12615271, 1030.51247598, 1063.87990872,\n",
       "       1213.28781603, 1192.77198966, 1224.07875982, 1138.66918589,\n",
       "        883.37020431,  948.73206385, 1035.17568374,  960.9591817 ,\n",
       "       1187.9346441 , 1042.49807664, 1047.07392837, 1028.35554336,\n",
       "       1181.6334648 , 1328.56934179, 1344.06408436, 1381.88033632,\n",
       "       1293.10176156, 1095.02211473, 1060.2308998 , 1075.86579671,\n",
       "       1198.89486478, 1319.13284966, 1280.40016792, 1250.16989286,\n",
       "       1145.31459636, 1003.31280264,  832.68578358, 1027.7633231 ,\n",
       "        976.79810493,  932.99067476,  807.71113876,  885.46017434,\n",
       "        724.07038959,  702.79636157,  613.24970545,  651.93995523,\n",
       "        600.85944148,  482.79622306,  479.97800023,  522.81118728,\n",
       "        529.46290952,  559.71009929,  496.27788993,  460.00377333,\n",
       "        392.75772855,  356.8024124 ,  275.48778419,  102.85952396,\n",
       "        120.60213818,   80.42404456,  -82.59579013,  -36.31756458,\n",
       "       -127.04740102, -121.85286144,  -48.94380522,  -36.04551415,\n",
       "         77.89455431,  -45.58802773,   -5.35386361,  -73.8348727 ,\n",
       "       -160.91458762, -218.7995541 , -249.95480731, -244.33827309,\n",
       "       -360.85325717, -270.77060847, -224.2043645 , -377.82873313,\n",
       "       -229.00351375,  -39.41459614,   78.46336097,   60.47087739,\n",
       "        -46.60438476,   58.84078793,   18.52309324,  140.76760027,\n",
       "        161.59509808,  259.25900173,  294.89564145,  365.55295827,\n",
       "        366.60296034,  545.19000973,  557.881219  ,  598.08015534]))], scale_x=LinearScale(allow_padding=False, max=1.0, min=0.0), scale_y=LinearScale(allow_padding=False, max=1.0, min=0.0), title='A Figure')"
      ]
     },
     "metadata": {},
     "output_type": "display_data"
    }
   ],
   "source": [
    "fig = Figure(marks=[scatter_chart], title='A Figure', axes=[x_ax, y_ax])\n",
    "fig"
   ]
  },
  {
   "cell_type": "markdown",
   "metadata": {},
   "source": [
    "The IPython display machinery displays the last returned value of a cell. If you wish to explicitly display a widget, you can call `IPython.display.display`."
   ]
  },
  {
   "cell_type": "code",
   "execution_count": 22,
   "metadata": {},
   "outputs": [],
   "source": [
    "from IPython.display import display"
   ]
  },
  {
   "cell_type": "code",
   "execution_count": 23,
   "metadata": {},
   "outputs": [
    {
     "data": {
      "application/vnd.jupyter.widget-view+json": {
       "model_id": "6ea92b7c93f545429e471cd8c9794946",
       "version_major": 2,
       "version_minor": 0
      },
      "text/html": [
       "<p>Failed to display Jupyter Widget of type <code>Figure</code>.</p>\n",
       "<p>\n",
       "  If you're reading this message in the Jupyter Notebook or JupyterLab Notebook, it may mean\n",
       "  that the widgets JavaScript is still loading. If this message persists, it\n",
       "  likely means that the widgets JavaScript library is either not installed or\n",
       "  not enabled. See the <a href=\"https://ipywidgets.readthedocs.io/en/stable/user_install.html\">Jupyter\n",
       "  Widgets Documentation</a> for setup instructions.\n",
       "</p>\n",
       "<p>\n",
       "  If you're reading this message in another frontend (for example, a static\n",
       "  rendering on GitHub or <a href=\"https://nbviewer.jupyter.org/\">NBViewer</a>),\n",
       "  it may mean that your frontend doesn't currently support widgets.\n",
       "</p>\n"
      ],
      "text/plain": [
       "Figure(axes=[Axis(label='X', scale=LinearScale()), Axis(label='Y', orientation='vertical', scale=LinearScale())], fig_margin={'top': 60, 'bottom': 60, 'left': 60, 'right': 60}, layout=Layout(min_width='125px'), marks=[Scatter(colors=['steelblue'], interactions={'hover': 'tooltip'}, scales={'x': LinearScale(), 'y': LinearScale()}, scales_metadata={'x': {'orientation': 'horizontal', 'dimension': 'x'}, 'y': {'orientation': 'vertical', 'dimension': 'y'}, 'color': {'dimension': 'color'}, 'size': {'dimension': 'size'}, 'opacity': {'dimension': 'opacity'}, 'rotation': {'dimension': 'rotation'}, 'skew': {'dimension': 'skew'}}, tooltip_style={'opacity': 0.9}, x=array([ 0,  1,  2,  3,  4,  5,  6,  7,  8,  9, 10, 11, 12, 13, 14, 15, 16,\n",
       "       17, 18, 19, 20, 21, 22, 23, 24, 25, 26, 27, 28, 29, 30, 31, 32, 33,\n",
       "       34, 35, 36, 37, 38, 39, 40, 41, 42, 43, 44, 45, 46, 47, 48, 49, 50,\n",
       "       51, 52, 53, 54, 55, 56, 57, 58, 59, 60, 61, 62, 63, 64, 65, 66, 67,\n",
       "       68, 69, 70, 71, 72, 73, 74, 75, 76, 77, 78, 79, 80, 81, 82, 83, 84,\n",
       "       85, 86, 87, 88, 89, 90, 91, 92, 93, 94, 95, 96, 97, 98, 99]), y=array([ 176.4052346 ,  216.42095543,  314.29475384,  538.38407376,\n",
       "        725.13987278,  627.41208479,  722.42092654,  707.28520571,\n",
       "        696.96332053,  738.02317073,  752.42752784,  897.85487854,\n",
       "        973.95865106,  986.12615271, 1030.51247598, 1063.87990872,\n",
       "       1213.28781603, 1192.77198966, 1224.07875982, 1138.66918589,\n",
       "        883.37020431,  948.73206385, 1035.17568374,  960.9591817 ,\n",
       "       1187.9346441 , 1042.49807664, 1047.07392837, 1028.35554336,\n",
       "       1181.6334648 , 1328.56934179, 1344.06408436, 1381.88033632,\n",
       "       1293.10176156, 1095.02211473, 1060.2308998 , 1075.86579671,\n",
       "       1198.89486478, 1319.13284966, 1280.40016792, 1250.16989286,\n",
       "       1145.31459636, 1003.31280264,  832.68578358, 1027.7633231 ,\n",
       "        976.79810493,  932.99067476,  807.71113876,  885.46017434,\n",
       "        724.07038959,  702.79636157,  613.24970545,  651.93995523,\n",
       "        600.85944148,  482.79622306,  479.97800023,  522.81118728,\n",
       "        529.46290952,  559.71009929,  496.27788993,  460.00377333,\n",
       "        392.75772855,  356.8024124 ,  275.48778419,  102.85952396,\n",
       "        120.60213818,   80.42404456,  -82.59579013,  -36.31756458,\n",
       "       -127.04740102, -121.85286144,  -48.94380522,  -36.04551415,\n",
       "         77.89455431,  -45.58802773,   -5.35386361,  -73.8348727 ,\n",
       "       -160.91458762, -218.7995541 , -249.95480731, -244.33827309,\n",
       "       -360.85325717, -270.77060847, -224.2043645 , -377.82873313,\n",
       "       -229.00351375,  -39.41459614,   78.46336097,   60.47087739,\n",
       "        -46.60438476,   58.84078793,   18.52309324,  140.76760027,\n",
       "        161.59509808,  259.25900173,  294.89564145,  365.55295827,\n",
       "        366.60296034,  545.19000973,  557.881219  ,  598.08015534]))], scale_x=LinearScale(allow_padding=False, max=1.0, min=0.0), scale_y=LinearScale(allow_padding=False, max=1.0, min=0.0), title='A Figure')"
      ]
     },
     "metadata": {},
     "output_type": "display_data"
    }
   ],
   "source": [
    "display(fig)"
   ]
  },
  {
   "cell_type": "markdown",
   "metadata": {},
   "source": [
    "Now, that the plot has been generated, we can control every single attribute of it. Let's say we wanted to color the chart based on some other data."
   ]
  },
  {
   "cell_type": "code",
   "execution_count": 24,
   "metadata": {},
   "outputs": [],
   "source": [
    "# First, we generate some random color data.\n",
    "color_data = np.random.randint(0, 2, size=100)"
   ]
  },
  {
   "cell_type": "markdown",
   "metadata": {},
   "source": [
    "Now, we define a ColorScale to map the color_data to actual colors"
   ]
  },
  {
   "cell_type": "code",
   "execution_count": 25,
   "metadata": {},
   "outputs": [],
   "source": [
    "from bqplot import ColorScale"
   ]
  },
  {
   "cell_type": "code",
   "execution_count": 26,
   "metadata": {},
   "outputs": [],
   "source": [
    "# The colors trait controls the actual colors we want to map to. It can also take a min, mid, max list of\n",
    "# colors to be interpolated between for continuous data.\n",
    "col_sc = ColorScale(colors=['MediumSeaGreen', 'Red'])"
   ]
  },
  {
   "cell_type": "code",
   "execution_count": 27,
   "metadata": {},
   "outputs": [],
   "source": [
    "scatter_chart.scales = {'x': x_sc, 'y': y_sc, 'color': col_sc}\n",
    "# We pass the color data to the Scatter Chart through it's color attribute\n",
    "scatter_chart.color = color_data"
   ]
  },
  {
   "cell_type": "markdown",
   "metadata": {
    "collapsed": true
   },
   "source": [
    "The grammar of graphics framework allows us to overlay multiple visualizations on a single `Figure` by having the visualization share the `Scales`. So, for example, if we had a `Bar` chart that we would like to plot alongside the `Scatter` plot, we just pass it the same `Scales`."
   ]
  },
  {
   "cell_type": "code",
   "execution_count": 28,
   "metadata": {},
   "outputs": [],
   "source": [
    "from bqplot import Bars"
   ]
  },
  {
   "cell_type": "code",
   "execution_count": 29,
   "metadata": {},
   "outputs": [],
   "source": [
    "new_size = 50\n",
    "scale = 100.\n",
    "x_data_new = np.arange(new_size)\n",
    "y_data_new = np.cumsum(np.random.randn(new_size)  * scale)"
   ]
  },
  {
   "cell_type": "code",
   "execution_count": 30,
   "metadata": {},
   "outputs": [],
   "source": [
    "# All we need to do to add a bar chart to the Figure is pass the same scales to the Mark\n",
    "bar_chart = Bars(x=x_data_new, y=y_data_new, scales={'x': x_sc, 'y': y_sc})"
   ]
  },
  {
   "cell_type": "markdown",
   "metadata": {},
   "source": [
    "Finally, we add the new `Mark` to the `Figure` to update the plot!"
   ]
  },
  {
   "cell_type": "code",
   "execution_count": 31,
   "metadata": {},
   "outputs": [],
   "source": [
    "fig.marks = [scatter_chart, bar_chart]"
   ]
  },
  {
   "cell_type": "code",
   "execution_count": null,
   "metadata": {},
   "outputs": [],
   "source": []
  }
 ],
 "metadata": {
  "anaconda-cloud": {},
  "kernelspec": {
   "display_name": "Python 3",
   "language": "python",
   "name": "python3"
  },
  "language_info": {
   "codemirror_mode": {
    "name": "ipython",
    "version": 3
   },
   "file_extension": ".py",
   "mimetype": "text/x-python",
   "name": "python",
   "nbconvert_exporter": "python",
   "pygments_lexer": "ipython3",
   "version": "3.6.4"
  },
  "widgets": {
   "application/vnd.jupyter.widget-state+json": {
    "state": {
     "0e3d1c0a72334fac8440db806fa0db77": {
      "model_module": "@jupyter-widgets/base",
      "model_module_version": "1.0.0",
      "model_name": "LayoutModel",
      "state": {
       "min_width": "125px"
      }
     },
     "145c5a34b3b54c6fa6e5d34d74925f4b": {
      "model_module": "@jupyter-widgets/base",
      "model_module_version": "1.0.0",
      "model_name": "LayoutModel",
      "state": {}
     },
     "1f4b9183d4cb4efd8306e0659b214393": {
      "model_module": "bqplot",
      "model_module_version": "^0.3.6",
      "model_name": "ToolbarModel",
      "state": {
       "figure": "IPY_MODEL_b9800b430b124c24961bf69896d1c7f2",
       "layout": "IPY_MODEL_3929967efa334fb197b249ff70b1a445"
      }
     },
     "3769d5445c6a463ab26ec446d9ea0e8d": {
      "model_module": "bqplot",
      "model_module_version": "^0.3.6",
      "model_name": "LinearScaleModel",
      "state": {
       "allow_padding": false,
       "max": 1,
       "min": 0,
       "stabilized": false
      }
     },
     "3929967efa334fb197b249ff70b1a445": {
      "model_module": "@jupyter-widgets/base",
      "model_module_version": "1.0.0",
      "model_name": "LayoutModel",
      "state": {}
     },
     "3adcda9da63447c1a2ce49e094ce41c7": {
      "model_module": "bqplot",
      "model_module_version": "^0.3.6",
      "model_name": "LinearScaleModel",
      "state": {
       "allow_padding": false,
       "max": 1,
       "min": 0,
       "stabilized": false
      }
     },
     "4b5a9acd37c74bba8ddb78aaa46d71ad": {
      "model_module": "bqplot",
      "model_module_version": "^0.3.6",
      "model_name": "LinearScaleModel",
      "state": {
       "stabilized": false
      }
     },
     "4c2c26cc6dbf46fea5c8802a1c19cc6b": {
      "model_module": "bqplot",
      "model_module_version": "^0.3.6",
      "model_name": "FigureModel",
      "state": {
       "_dom_classes": [],
       "axes": [
        "IPY_MODEL_7036476377db47ef9c70501b386eb396",
        "IPY_MODEL_b569ee25efc94e0bb963749eb96152d2"
       ],
       "layout": "IPY_MODEL_0e3d1c0a72334fac8440db806fa0db77",
       "marks": [
        "IPY_MODEL_9ee19a114508436697ab09c5df846f75"
       ],
       "max_aspect_ratio": 6,
       "scale_x": "IPY_MODEL_3769d5445c6a463ab26ec446d9ea0e8d",
       "scale_y": "IPY_MODEL_3adcda9da63447c1a2ce49e094ce41c7",
       "title": "My First Plot"
      }
     },
     "4d9d8f28c2334c6ab0b558eaa1e53668": {
      "model_module": "@jupyter-widgets/base",
      "model_module_version": "1.0.0",
      "model_name": "LayoutModel",
      "state": {
       "min_width": "125px"
      }
     },
     "53c30e1fdaa54d659d7149ee93f4e507": {
      "model_module": "bqplot",
      "model_module_version": "^0.3.6",
      "model_name": "AxisModel",
      "state": {
       "orientation": "vertical",
       "scale": "IPY_MODEL_4b5a9acd37c74bba8ddb78aaa46d71ad",
       "side": "left",
       "tick_values": {
        "type": null,
        "values": null
       }
      }
     },
     "53e86273838c4486ac150dee93162740": {
      "model_module": "bqplot",
      "model_module_version": "^0.3.6",
      "model_name": "LinearScaleModel",
      "state": {
       "allow_padding": false,
       "max": 1,
       "min": 0,
       "stabilized": false
      }
     },
     "58400b83525943cc80f2b642f0d16ae1": {
      "model_module": "bqplot",
      "model_module_version": "^0.3.6",
      "model_name": "ColorScaleModel",
      "state": {
       "_model_name": "ColorScaleModel",
       "_view_name": "ColorScale",
       "colors": [
        "MediumSeaGreen",
        "Red"
       ],
       "mid": null,
       "scale_type": "linear",
       "scheme": "RdYlGn"
      }
     },
     "6ea92b7c93f545429e471cd8c9794946": {
      "model_module": "bqplot",
      "model_module_version": "^0.3.6",
      "model_name": "FigureModel",
      "state": {
       "_dom_classes": [],
       "axes": [
        "IPY_MODEL_c9663b3e9514424f91de30e64bb0eb68",
        "IPY_MODEL_6f8070b3983e4ac89b2c3454082c68cc"
       ],
       "layout": "IPY_MODEL_4d9d8f28c2334c6ab0b558eaa1e53668",
       "marks": [
        "IPY_MODEL_d5436612292f49beaa7d40e211f46a2a",
        "IPY_MODEL_dba3490c72314cfea7fcb7f80b08e72d"
       ],
       "max_aspect_ratio": 6,
       "scale_x": "IPY_MODEL_53e86273838c4486ac150dee93162740",
       "scale_y": "IPY_MODEL_eea884ff454c4132a7e6945bd25becbd",
       "title": "A Figure"
      }
     },
     "6f8070b3983e4ac89b2c3454082c68cc": {
      "model_module": "bqplot",
      "model_module_version": "^0.3.6",
      "model_name": "AxisModel",
      "state": {
       "label": "Y",
       "orientation": "vertical",
       "scale": "IPY_MODEL_d8720b6e21eb470f989d9e6390e9ef16",
       "side": "left",
       "tick_values": {
        "type": null,
        "values": null
       }
      }
     },
     "7036476377db47ef9c70501b386eb396": {
      "model_module": "bqplot",
      "model_module_version": "^0.3.6",
      "model_name": "AxisModel",
      "state": {
       "scale": "IPY_MODEL_ee9be76523664dcfad333c765d0c5830",
       "side": "bottom",
       "tick_values": {
        "type": null,
        "values": null
       }
      }
     },
     "76543a58b0c5461d86edf775c388e572": {
      "model_module": "bqplot",
      "model_module_version": "^0.3.6",
      "model_name": "LinearScaleModel",
      "state": {
       "allow_padding": false,
       "max": 1,
       "min": 0,
       "stabilized": false
      }
     },
     "79c633d1f142430fb4ec5f773c4ac77b": {
      "model_module": "@jupyter-widgets/base",
      "model_module_version": "1.0.0",
      "model_name": "LayoutModel",
      "state": {
       "min_width": "125px"
      }
     },
     "7bd7ba5442bc4a81ba39b51c653736f6": {
      "model_module": "@jupyter-widgets/controls",
      "model_module_version": "1.1.0",
      "model_name": "VBoxModel",
      "state": {
       "children": [
        "IPY_MODEL_b9800b430b124c24961bf69896d1c7f2",
        "IPY_MODEL_1f4b9183d4cb4efd8306e0659b214393"
       ],
       "layout": "IPY_MODEL_ef6936621166473cb508b58f304c28fa"
      }
     },
     "8b96c26991b14d2f9ffee0d05964cfea": {
      "model_module": "bqplot",
      "model_module_version": "^0.3.6",
      "model_name": "ToolbarModel",
      "state": {
       "figure": "IPY_MODEL_4c2c26cc6dbf46fea5c8802a1c19cc6b",
       "layout": "IPY_MODEL_a211a74bf3a045cdb18bc1514a6a5ac0"
      }
     },
     "91481165c84c49e9ad2c1f6e4672d272": {
      "model_module": "@jupyter-widgets/controls",
      "model_module_version": "1.1.0",
      "model_name": "VBoxModel",
      "state": {
       "children": [
        "IPY_MODEL_4c2c26cc6dbf46fea5c8802a1c19cc6b",
        "IPY_MODEL_8b96c26991b14d2f9ffee0d05964cfea"
       ],
       "layout": "IPY_MODEL_145c5a34b3b54c6fa6e5d34d74925f4b"
      }
     },
     "9ee19a114508436697ab09c5df846f75": {
      "model_module": "bqplot",
      "model_module_version": "^0.3.6",
      "model_name": "LinesModel",
      "state": {
       "color": {
        "type": null,
        "values": null
       },
       "display_legend": false,
       "fill_colors": [],
       "labels": [
        "C1"
       ],
       "scales": {
        "x": "IPY_MODEL_ee9be76523664dcfad333c765d0c5830",
        "y": "IPY_MODEL_b2c0b0ede4ee470f8455fd8fdc18974e"
       },
       "selected": [],
       "x": {
        "type": "float",
        "values": [
         0,
         1,
         2,
         3,
         4,
         5,
         6,
         7,
         8,
         9,
         10,
         11,
         12,
         13,
         14,
         15,
         16,
         17,
         18,
         19,
         20,
         21,
         22,
         23,
         24,
         25,
         26,
         27,
         28,
         29,
         30,
         31,
         32,
         33,
         34,
         35,
         36,
         37,
         38,
         39,
         40,
         41,
         42,
         43,
         44,
         45,
         46,
         47,
         48,
         49,
         50,
         51,
         52,
         53,
         54,
         55,
         56,
         57,
         58,
         59,
         60,
         61,
         62,
         63,
         64,
         65,
         66,
         67,
         68,
         69,
         70,
         71,
         72,
         73,
         74,
         75,
         76,
         77,
         78,
         79,
         80,
         81,
         82,
         83,
         84,
         85,
         86,
         87,
         88,
         89,
         90,
         91,
         92,
         93,
         94,
         95,
         96,
         97,
         98,
         99
        ]
       },
       "y": {
        "type": "float",
        "values": [
         176.4052345967664,
         216.42095543348873,
         314.29475384406265,
         538.3840737642084,
         725.1398727792052,
         627.4120847915641,
         722.4209265441231,
         707.2852057143533,
         696.9633205349975,
         738.0231707288347,
         752.4275278449225,
         897.8548785412199,
         973.9586510559193,
         986.1261527052021,
         1030.5124759797447,
         1063.8799087171715,
         1213.2878160329321,
         1192.7719896563522,
         1224.0787598214422,
         1138.6691858912698,
         883.3702043078619,
         948.7320638518979,
         1035.1756837378484,
         960.9591816972043,
         1187.934644095965,
         1042.4980766360886,
         1047.0739283662333,
         1028.35554336365,
         1181.6334647994956,
         1328.569341789524,
         1344.0640843592157,
         1381.8803363194331,
         1293.101761556422,
         1095.0221147340292,
         1060.230899801414,
         1075.865796711812,
         1198.8948647845841,
         1319.1328496630254,
         1280.4001679222301,
         1250.1698928646965,
         1145.3145963579873,
         1003.3128026400898,
         832.6857835775885,
         1027.7633231007674,
         976.798104925602,
         932.9906747644834,
         807.7111387594907,
         885.4601743426817,
         724.0703895868866,
         702.7963615654897,
         613.2497054461222,
         651.9399552320484,
         600.8594414751611,
         482.7962230629199,
         479.97800022905443,
         522.8111872820962,
         529.462909520413,
         559.7100992943911,
         496.2778899262947,
         460.00377332758086,
         392.75772854998576,
         356.80241239593164,
         275.48778419148624,
         102.85952395831856,
         120.60213818369385,
         80.42404456286766,
         -82.59579013373678,
         -36.31756458115937,
         -127.04740101948357,
         -121.85286143986968,
         -48.943805222116,
         -36.04551414637493,
         77.89455430795515,
         -45.58802772741012,
         -5.353863609655221,
         -73.83487270368654,
         -160.91458762187472,
         -218.79955409831626,
         -249.95480731105351,
         -244.33827308807898,
         -360.8532571664146,
         -270.7706084709959,
         -224.20436449794994,
         -377.82873312567233,
         -229.00351374611236,
         -39.41459614305404,
         78.46336097291103,
         60.47087739167594,
         -46.604384759378306,
         58.840787933735356,
         18.523093236417395,
         140.76760027466014,
         161.59509808234617,
         259.25900173071744,
         294.8956414481576,
         365.55295826735244,
         366.6029603394345,
         545.190009730018,
         557.88121900038,
         598.0801553448503
        ]
       }
      }
     },
     "a211a74bf3a045cdb18bc1514a6a5ac0": {
      "model_module": "@jupyter-widgets/base",
      "model_module_version": "1.0.0",
      "model_name": "LayoutModel",
      "state": {}
     },
     "b2c0b0ede4ee470f8455fd8fdc18974e": {
      "model_module": "bqplot",
      "model_module_version": "^0.3.6",
      "model_name": "LinearScaleModel",
      "state": {
       "stabilized": false
      }
     },
     "b4beead998634dfbab07a5e2f781d6a4": {
      "model_module": "bqplot",
      "model_module_version": "^0.3.6",
      "model_name": "LinearScaleModel",
      "state": {
       "stabilized": false
      }
     },
     "b569ee25efc94e0bb963749eb96152d2": {
      "model_module": "bqplot",
      "model_module_version": "^0.3.6",
      "model_name": "AxisModel",
      "state": {
       "orientation": "vertical",
       "scale": "IPY_MODEL_b2c0b0ede4ee470f8455fd8fdc18974e",
       "side": "left",
       "tick_values": {
        "type": null,
        "values": null
       }
      }
     },
     "b6bfa91ec61e45f8bdd2c765177927da": {
      "model_module": "bqplot",
      "model_module_version": "^0.3.6",
      "model_name": "ScatterModel",
      "state": {
       "_model_module": "bqplot",
       "_model_module_version": "^0.3.6",
       "_view_count": null,
       "_view_module": "bqplot",
       "_view_module_version": "^0.3.6",
       "apply_clip": true,
       "color": {
        "type": null,
        "values": null
       },
       "colors": [
        "Red"
       ],
       "display_legend": false,
       "enable_hover": true,
       "enable_move": true,
       "hovered_style": {},
       "interactions": {
        "hover": "tooltip"
       },
       "labels": [],
       "marker": "diamond",
       "names": {
        "type": null,
        "values": null
       },
       "opacity": {
        "type": null,
        "values": null
       },
       "preserve_domain": {},
       "rotation": {
        "type": null,
        "values": null
       },
       "scales": {
        "x": "IPY_MODEL_f2ea93fc081f46738fc97986ed0a0ab1",
        "y": "IPY_MODEL_4b5a9acd37c74bba8ddb78aaa46d71ad"
       },
       "scales_metadata": {
        "color": {
         "dimension": "color"
        },
        "opacity": {
         "dimension": "opacity"
        },
        "rotation": {
         "dimension": "rotation"
        },
        "size": {
         "dimension": "size"
        },
        "skew": {
         "dimension": "skew"
        },
        "x": {
         "dimension": "x",
         "orientation": "horizontal"
        },
        "y": {
         "dimension": "y",
         "orientation": "vertical"
        }
       },
       "selected": [],
       "selected_style": {},
       "size": {
        "type": null,
        "values": null
       },
       "skew": {
        "type": null,
        "values": null
       },
       "tooltip": null,
       "tooltip_location": "mouse",
       "tooltip_style": {
        "opacity": 0.9
       },
       "unhovered_style": {},
       "unselected_style": {},
       "visible": true,
       "x": {
        "type": "float",
        "values": [
         0,
         1,
         2,
         3,
         4,
         5,
         6,
         7,
         8,
         9,
         10,
         11,
         12,
         13,
         14,
         15,
         16,
         17,
         18,
         19,
         20,
         21,
         22,
         23,
         24,
         25,
         26,
         27,
         28,
         29,
         30,
         31,
         32,
         33,
         34,
         35,
         36,
         37,
         38,
         39,
         40,
         41,
         42,
         43,
         44,
         45,
         46,
         47,
         48,
         49,
         50,
         51,
         52,
         53,
         54,
         55,
         56,
         57,
         58,
         59,
         60,
         61,
         62,
         63,
         64,
         65,
         66,
         67,
         68,
         69,
         70,
         71,
         72,
         73,
         74,
         75,
         76,
         77,
         78,
         79,
         80,
         81,
         82,
         83,
         84,
         85,
         86,
         87,
         88,
         89,
         90,
         91,
         92,
         93,
         94,
         95,
         96,
         97,
         98,
         99
        ]
       },
       "y": {
        "type": "float",
        "values": [
         188.31506970562543,
         53.5391635913808,
         -73.50933625719256,
         23.430334558608564,
         -93.88200595280743,
         100.48011261212183,
         59.11821453614709,
         -15.62726660792869,
         176.66693604010976,
         324.7184151835522,
         511.47431122620924,
         602.0787770537478,
         515.9562085482776,
         706.9627038581809,
         680.1623667630429,
         760.4080063426824,
         855.1332031200571,
         839.6321938109737,
         901.0401308455818,
         993.2607980022344,
         1030.9033511177975,
         920.963272059378,
         950.7870894799836,
         1083.4256791486866,
         1013.9688931755501,
         999.005439142783,
         955.4900839706193,
         1140.4164568185533,
         1207.6459325197968,
         1248.392116143908,
         1171.4005086993764,
         1225.325427828558,
         1157.8921617628205,
         1161.0752175902555,
         1097.4906097523674,
         1165.1339392470175,
         1222.7930209085116,
         1201.963145350712,
         1241.5638166168765,
         1132.2576657438258,
         983.1319064732652,
         1027.071076599719,
         1043.7384261369718,
         1107.2415698261825,
         1345.5560473125768,
         1440.0039960116183,
         1348.7217734672024,
         1460.4234022767878,
         1328.8326612256355,
         1282.6742007441646,
         1275.8500402117015,
         1447.1843123766382,
         1372.7088301717943,
         1290.0649763058927,
         1280.2197238633496,
         1213.8718952271388,
         1326.5354874377895,
         1218.5423366014472,
         1103.795471360337,
         1060.0134668858934,
         1010.210221816663,
         1203.1634271983617,
         1298.1055078909378,
         1306.8606320294568,
         1184.31708014644,
         1268.7533777865947,
         1168.7318430476382,
         1014.254733369877,
         1133.0577126051073,
         1164.7519737975922,
         1256.837856175674,
         1288.710621469976,
         1374.3936826602453,
         1309.2911233302307,
         1205.8668391517842,
         1274.026290979947,
         1193.6853245625628,
         1124.7303467875427,
         1079.1770964358084,
         1080.925012338314,
         1045.5256212129657,
         908.0304918711638,
         843.6686515878747,
         621.328336365432,
         683.8514814681508,
         523.6457159074761,
         413.207381964631,
         418.42388989072845,
         344.46759025159713,
         498.7690497922707,
         369.48335881992585,
         396.18844575484417,
         392.2601639320946,
         275.45081415797483,
         327.7784802111502,
         310.6238470889254,
         387.80290221029213,
         470.15331760666527,
         686.4769125347343,
         820.1297074783736
        ]
       }
      }
     },
     "b9800b430b124c24961bf69896d1c7f2": {
      "model_module": "bqplot",
      "model_module_version": "^0.3.6",
      "model_name": "FigureModel",
      "state": {
       "_dom_classes": [],
       "axes": [
        "IPY_MODEL_d0eca6430fa34e83b00f638a129de03c",
        "IPY_MODEL_53c30e1fdaa54d659d7149ee93f4e507"
       ],
       "layout": "IPY_MODEL_79c633d1f142430fb4ec5f773c4ac77b",
       "marks": [
        "IPY_MODEL_b6bfa91ec61e45f8bdd2c765177927da"
       ],
       "max_aspect_ratio": 6,
       "scale_x": "IPY_MODEL_bbad236b0796457e934791361c94a98c",
       "scale_y": "IPY_MODEL_76543a58b0c5461d86edf775c388e572",
       "title": "My Second Chart"
      }
     },
     "bbad236b0796457e934791361c94a98c": {
      "model_module": "bqplot",
      "model_module_version": "^0.3.6",
      "model_name": "LinearScaleModel",
      "state": {
       "allow_padding": false,
       "max": 1,
       "min": 0,
       "stabilized": false
      }
     },
     "c9663b3e9514424f91de30e64bb0eb68": {
      "model_module": "bqplot",
      "model_module_version": "^0.3.6",
      "model_name": "AxisModel",
      "state": {
       "label": "X",
       "scale": "IPY_MODEL_b4beead998634dfbab07a5e2f781d6a4",
       "side": "bottom",
       "tick_values": {
        "type": null,
        "values": null
       }
      }
     },
     "d0eca6430fa34e83b00f638a129de03c": {
      "model_module": "bqplot",
      "model_module_version": "^0.3.6",
      "model_name": "AxisModel",
      "state": {
       "scale": "IPY_MODEL_f2ea93fc081f46738fc97986ed0a0ab1",
       "side": "bottom",
       "tick_values": {
        "type": null,
        "values": null
       }
      }
     },
     "d5436612292f49beaa7d40e211f46a2a": {
      "model_module": "bqplot",
      "model_module_version": "^0.3.6",
      "model_name": "ScatterModel",
      "state": {
       "_model_module": "bqplot",
       "_model_module_version": "^0.3.6",
       "_view_count": null,
       "_view_module": "bqplot",
       "_view_module_version": "^0.3.6",
       "apply_clip": true,
       "color": {
        "type": "float",
        "values": [
         0,
         1,
         0,
         1,
         0,
         1,
         0,
         1,
         1,
         0,
         0,
         1,
         0,
         1,
         0,
         1,
         0,
         0,
         0,
         0,
         1,
         1,
         0,
         1,
         0,
         1,
         1,
         0,
         1,
         0,
         0,
         0,
         0,
         0,
         1,
         1,
         0,
         0,
         0,
         0,
         1,
         1,
         0,
         0,
         1,
         0,
         1,
         1,
         1,
         1,
         1,
         1,
         1,
         1,
         1,
         1,
         1,
         0,
         0,
         1,
         1,
         1,
         1,
         0,
         0,
         1,
         0,
         0,
         1,
         0,
         1,
         0,
         1,
         0,
         0,
         1,
         0,
         0,
         0,
         0,
         0,
         1,
         0,
         1,
         0,
         0,
         1,
         1,
         1,
         1,
         0,
         0,
         1,
         0,
         1,
         1,
         1,
         1,
         0,
         0
        ]
       },
       "colors": [
        "steelblue"
       ],
       "display_legend": false,
       "enable_hover": true,
       "hovered_style": {},
       "interactions": {
        "hover": "tooltip"
       },
       "labels": [],
       "names": {
        "type": null,
        "values": null
       },
       "opacity": {
        "type": null,
        "values": null
       },
       "preserve_domain": {},
       "rotation": {
        "type": null,
        "values": null
       },
       "scales": {
        "color": "IPY_MODEL_58400b83525943cc80f2b642f0d16ae1",
        "x": "IPY_MODEL_b4beead998634dfbab07a5e2f781d6a4",
        "y": "IPY_MODEL_d8720b6e21eb470f989d9e6390e9ef16"
       },
       "scales_metadata": {
        "color": {
         "dimension": "color"
        },
        "opacity": {
         "dimension": "opacity"
        },
        "rotation": {
         "dimension": "rotation"
        },
        "size": {
         "dimension": "size"
        },
        "skew": {
         "dimension": "skew"
        },
        "x": {
         "dimension": "x",
         "orientation": "horizontal"
        },
        "y": {
         "dimension": "y",
         "orientation": "vertical"
        }
       },
       "selected": [],
       "selected_style": {},
       "size": {
        "type": null,
        "values": null
       },
       "skew": {
        "type": null,
        "values": null
       },
       "tooltip": null,
       "tooltip_location": "mouse",
       "tooltip_style": {
        "opacity": 0.9
       },
       "unhovered_style": {},
       "unselected_style": {},
       "visible": true,
       "x": {
        "type": "float",
        "values": [
         0,
         1,
         2,
         3,
         4,
         5,
         6,
         7,
         8,
         9,
         10,
         11,
         12,
         13,
         14,
         15,
         16,
         17,
         18,
         19,
         20,
         21,
         22,
         23,
         24,
         25,
         26,
         27,
         28,
         29,
         30,
         31,
         32,
         33,
         34,
         35,
         36,
         37,
         38,
         39,
         40,
         41,
         42,
         43,
         44,
         45,
         46,
         47,
         48,
         49,
         50,
         51,
         52,
         53,
         54,
         55,
         56,
         57,
         58,
         59,
         60,
         61,
         62,
         63,
         64,
         65,
         66,
         67,
         68,
         69,
         70,
         71,
         72,
         73,
         74,
         75,
         76,
         77,
         78,
         79,
         80,
         81,
         82,
         83,
         84,
         85,
         86,
         87,
         88,
         89,
         90,
         91,
         92,
         93,
         94,
         95,
         96,
         97,
         98,
         99
        ]
       },
       "y": {
        "type": "float",
        "values": [
         176.4052345967664,
         216.42095543348873,
         314.29475384406265,
         538.3840737642084,
         725.1398727792052,
         627.4120847915641,
         722.4209265441231,
         707.2852057143533,
         696.9633205349975,
         738.0231707288347,
         752.4275278449225,
         897.8548785412199,
         973.9586510559193,
         986.1261527052021,
         1030.5124759797447,
         1063.8799087171715,
         1213.2878160329321,
         1192.7719896563522,
         1224.0787598214422,
         1138.6691858912698,
         883.3702043078619,
         948.7320638518979,
         1035.1756837378484,
         960.9591816972043,
         1187.934644095965,
         1042.4980766360886,
         1047.0739283662333,
         1028.35554336365,
         1181.6334647994956,
         1328.569341789524,
         1344.0640843592157,
         1381.8803363194331,
         1293.101761556422,
         1095.0221147340292,
         1060.230899801414,
         1075.865796711812,
         1198.8948647845841,
         1319.1328496630254,
         1280.4001679222301,
         1250.1698928646965,
         1145.3145963579873,
         1003.3128026400898,
         832.6857835775885,
         1027.7633231007674,
         976.798104925602,
         932.9906747644834,
         807.7111387594907,
         885.4601743426817,
         724.0703895868866,
         702.7963615654897,
         613.2497054461222,
         651.9399552320484,
         600.8594414751611,
         482.7962230629199,
         479.97800022905443,
         522.8111872820962,
         529.462909520413,
         559.7100992943911,
         496.2778899262947,
         460.00377332758086,
         392.75772854998576,
         356.80241239593164,
         275.48778419148624,
         102.85952395831856,
         120.60213818369385,
         80.42404456286766,
         -82.59579013373678,
         -36.31756458115937,
         -127.04740101948357,
         -121.85286143986968,
         -48.943805222116,
         -36.04551414637493,
         77.89455430795515,
         -45.58802772741012,
         -5.353863609655221,
         -73.83487270368654,
         -160.91458762187472,
         -218.79955409831626,
         -249.95480731105351,
         -244.33827308807898,
         -360.8532571664146,
         -270.7706084709959,
         -224.20436449794994,
         -377.82873312567233,
         -229.00351374611236,
         -39.41459614305404,
         78.46336097291103,
         60.47087739167594,
         -46.604384759378306,
         58.840787933735356,
         18.523093236417395,
         140.76760027466014,
         161.59509808234617,
         259.25900173071744,
         294.8956414481576,
         365.55295826735244,
         366.6029603394345,
         545.190009730018,
         557.88121900038,
         598.0801553448503
        ]
       }
      }
     },
     "d8720b6e21eb470f989d9e6390e9ef16": {
      "model_module": "bqplot",
      "model_module_version": "^0.3.6",
      "model_name": "LinearScaleModel",
      "state": {
       "stabilized": false
      }
     },
     "dba3490c72314cfea7fcb7f80b08e72d": {
      "model_module": "bqplot",
      "model_module_version": "^0.3.6",
      "model_name": "BarsModel",
      "state": {
       "color": {
        "type": null,
        "values": null
       },
       "colors": [
        "steelblue"
       ],
       "display_legend": false,
       "scales": {
        "x": "IPY_MODEL_b4beead998634dfbab07a5e2f781d6a4",
        "y": "IPY_MODEL_d8720b6e21eb470f989d9e6390e9ef16"
       },
       "selected": [],
       "x": {
        "type": "float",
        "values": [
         0,
         1,
         2,
         3,
         4,
         5,
         6,
         7,
         8,
         9,
         10,
         11,
         12,
         13,
         14,
         15,
         16,
         17,
         18,
         19,
         20,
         21,
         22,
         23,
         24,
         25,
         26,
         27,
         28,
         29,
         30,
         31,
         32,
         33,
         34,
         35,
         36,
         37,
         38,
         39,
         40,
         41,
         42,
         43,
         44,
         45,
         46,
         47,
         48,
         49
        ]
       },
       "y": {
        "type": "float",
        "values": [
         -54.28614760167177,
         -12.68114297552922,
         -128.29938615772048,
         -50.17957598672113,
         99.26887846241574,
         -107.7296240389375,
         -65.1037509611274,
         2.587052541897151,
         -61.15665001332575,
         -100.88383144620552,
         -114.17188920490108,
         -143.95097714507392,
         -174.85227404978613,
         -342.45265468278376,
         -227.21949820447176,
         -119.25763900078965,
         -200.59406492120993,
         -347.2364977014613,
         -295.1300100561854,
         -352.708807037492,
         -338.51349070541403,
         -370.4463324199235,
         -301.29245731290484,
         -231.81754294730425,
         -304.3772807936627,
         -442.7136763331682,
         -601.0075160666764,
         -539.9695781559559,
         -658.8555039343588,
         -709.5371393642275,
         -769.1685432092784,
         -774.425272836233,
         -968.0532534208837,
         -949.1753937415009,
         -896.7862913580803,
         -887.9440826536143,
         -919.0326998234615,
         -909.2926831965832,
         -869.3880486325702,
         -1146.6473242752352,
         -951.0560934501657,
         -912.0467611813731,
         -977.2876194200751,
         -1016.3829569388352,
         -967.0087792039163,
         -978.6191731073529,
         -1181.6876198855025,
         -975.2383337495705,
         -986.2923994728178,
         -884.2751283012378
        ]
       }
      }
     },
     "ee9be76523664dcfad333c765d0c5830": {
      "model_module": "bqplot",
      "model_module_version": "^0.3.6",
      "model_name": "LinearScaleModel",
      "state": {
       "stabilized": false
      }
     },
     "eea884ff454c4132a7e6945bd25becbd": {
      "model_module": "bqplot",
      "model_module_version": "^0.3.6",
      "model_name": "LinearScaleModel",
      "state": {
       "allow_padding": false,
       "max": 1,
       "min": 0,
       "stabilized": false
      }
     },
     "ef6936621166473cb508b58f304c28fa": {
      "model_module": "@jupyter-widgets/base",
      "model_module_version": "1.0.0",
      "model_name": "LayoutModel",
      "state": {}
     },
     "f2ea93fc081f46738fc97986ed0a0ab1": {
      "model_module": "bqplot",
      "model_module_version": "^0.3.6",
      "model_name": "LinearScaleModel",
      "state": {
       "stabilized": false
      }
     }
    },
    "version_major": 2,
    "version_minor": 0
   }
  }
 },
 "nbformat": 4,
 "nbformat_minor": 1
}
