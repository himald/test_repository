{
 "cells": [
  {
   "cell_type": "markdown",
   "metadata": {},
   "source": [
    "# __bqplot__\n",
    "\n",
    "Aziz and I met a senior researcher from Bloomberg at JupyterCon, who told us about this framework which is amazing for visualizations! *bqplot* not only allows you to plot visualizations with data, but also enables interaction with the plots to get deeper insights.\n",
    "\n",
    "In *bqplot*, every single attribute of the plot is an interactive widget. This allows the user to integrate any plot with IPython widgets to create a complex and feature rich GUI from just a few simple lines of Python code.\n",
    "\n",
    "Below 3 examples demonstrate various features of the framework."
   ]
  },
  {
   "cell_type": "markdown",
   "metadata": {},
   "source": [
    "## Example 1: \n",
    "#### Simple Interactions"
   ]
  },
  {
   "cell_type": "markdown",
   "metadata": {},
   "source": [
    "Let's start with a simple scatter chart to see how this works.\n",
    "Here are the libraries we need"
   ]
  },
  {
   "cell_type": "code",
   "execution_count": 9,
   "metadata": {},
   "outputs": [],
   "source": [
    "from bqplot import LinearScale, Scatter, Axis, Figure, pyplot as plt\n",
    "import numpy as np\n",
    "%matplotlib inline"
   ]
  },
  {
   "cell_type": "markdown",
   "metadata": {},
   "source": [
    "*Scale* is used to map data coordinates to figure coordinates, i.e. it takes a set of values in any arbitrary unit (say number of people, or $, or litres) and converts it to pixels (or colors for a *ColorScale*)"
   ]
  },
  {
   "cell_type": "code",
   "execution_count": 10,
   "metadata": {
    "collapsed": true
   },
   "outputs": [],
   "source": [
    "x_sc = LinearScale()\n",
    "y_sc = LinearScale()"
   ]
  },
  {
   "cell_type": "markdown",
   "metadata": {},
   "source": [
    "Generate some random data for x and y axis"
   ]
  },
  {
   "cell_type": "code",
   "execution_count": 11,
   "metadata": {
    "collapsed": true
   },
   "outputs": [],
   "source": [
    "x_data = np.arange(20)\n",
    "y_data = np.random.randn(20)"
   ]
  },
  {
   "cell_type": "markdown",
   "metadata": {},
   "source": [
    "Plot a scatter chart using the data and scale. In the *interactions* dictionary, we can specify events which trigger interactions which in this case is *click*. We also have the flexibility to customize styles of selected and unselected elements"
   ]
  },
  {
   "cell_type": "code",
   "execution_count": 12,
   "metadata": {
    "collapsed": true
   },
   "outputs": [],
   "source": [
    "scatter_chart = Scatter(x=x_data, y=y_data, scales= {'x': x_sc, 'y': y_sc}, colors=['dodgerblue'],\n",
    "                       interactions={'click': 'select'},\n",
    "                        selected_style={'opacity': 1.0, 'fill': 'DarkOrange', 'stroke': 'Red'},\n",
    "                       unselected_style={'opacity': 0.5})"
   ]
  },
  {
   "cell_type": "markdown",
   "metadata": {},
   "source": [
    "Define the axis for the plot"
   ]
  },
  {
   "cell_type": "code",
   "execution_count": 13,
   "metadata": {
    "collapsed": true
   },
   "outputs": [],
   "source": [
    "ax_x = Axis(scale=x_sc)\n",
    "ax_y = Axis(scale=y_sc, orientation='vertical', tick_format='0.2f')"
   ]
  },
  {
   "cell_type": "markdown",
   "metadata": {},
   "source": [
    "Display the scatter chart"
   ]
  },
  {
   "cell_type": "code",
   "execution_count": 14,
   "metadata": {},
   "outputs": [
    {
     "data": {
      "application/vnd.jupyter.widget-view+json": {
       "model_id": "7933dfc67d004f20a55e8e556740e927",
       "version_major": 2,
       "version_minor": 0
      },
      "text/html": [
       "<p>Failed to display Jupyter Widget of type <code>Figure</code>.</p>\n",
       "<p>\n",
       "  If you're reading this message in the Jupyter Notebook or JupyterLab Notebook, it may mean\n",
       "  that the widgets JavaScript is still loading. If this message persists, it\n",
       "  likely means that the widgets JavaScript library is either not installed or\n",
       "  not enabled. See the <a href=\"https://ipywidgets.readthedocs.io/en/stable/user_install.html\">Jupyter\n",
       "  Widgets Documentation</a> for setup instructions.\n",
       "</p>\n",
       "<p>\n",
       "  If you're reading this message in another frontend (for example, a static\n",
       "  rendering on GitHub or <a href=\"https://nbviewer.jupyter.org/\">NBViewer</a>),\n",
       "  it may mean that your frontend doesn't currently support widgets.\n",
       "</p>\n"
      ],
      "text/plain": [
       "Figure(axes=[Axis(scale=LinearScale()), Axis(orientation='vertical', scale=LinearScale(), tick_format='0.2f')], fig_margin={'left': 60, 'bottom': 60, 'right': 60, 'top': 60}, layout=Layout(min_width='125px'), marks=[Scatter(colors=['dodgerblue'], interactions={'click': 'select'}, scales={'x': LinearScale(), 'y': LinearScale()}, scales_metadata={'x': {'orientation': 'horizontal', 'dimension': 'x'}, 'opacity': {'dimension': 'opacity'}, 'y': {'orientation': 'vertical', 'dimension': 'y'}, 'rotation': {'dimension': 'rotation'}, 'color': {'dimension': 'color'}, 'skew': {'dimension': 'skew'}, 'size': {'dimension': 'size'}}, selected_style={'stroke': 'Red', 'opacity': 1.0, 'fill': 'DarkOrange'}, tooltip_style={'opacity': 0.9}, unselected_style={'opacity': 0.5}, x=array([ 0,  1,  2,  3,  4,  5,  6,  7,  8,  9, 10, 11, 12, 13, 14, 15, 16,\n",
       "       17, 18, 19]), y=array([-0.62641216, -0.37765222,  0.05902976, -0.00727999, -0.25282315,\n",
       "        0.41578967, -0.27240398,  0.44162743,  2.30311179, -0.03315407,\n",
       "        0.1421522 ,  0.24570914,  0.60375194,  0.68050579,  0.49507127,\n",
       "        1.09015235, -0.47916138,  0.32597192,  0.18263371, -0.92806802]))], scale_x=LinearScale(allow_padding=False, max=1.0, min=0.0), scale_y=LinearScale(allow_padding=False, max=1.0, min=0.0))"
      ]
     },
     "metadata": {},
     "output_type": "display_data"
    }
   ],
   "source": [
    "Figure(marks=[scatter_chart], axes=[ax_x, ax_y])"
   ]
  },
  {
   "cell_type": "markdown",
   "metadata": {},
   "source": [
    "Select any data point in the above graph. The code below is used to display x-coordinate of the selected point"
   ]
  },
  {
   "cell_type": "code",
   "execution_count": 15,
   "metadata": {},
   "outputs": [
    {
     "data": {
      "text/plain": [
       "[]"
      ]
     },
     "execution_count": 15,
     "metadata": {},
     "output_type": "execute_result"
    }
   ],
   "source": [
    "scatter_chart.selected"
   ]
  },
  {
   "cell_type": "markdown",
   "metadata": {},
   "source": [
    "We can select data points on the chart from the Python side (see how the graph changes based on the code below)"
   ]
  },
  {
   "cell_type": "code",
   "execution_count": 16,
   "metadata": {
    "collapsed": true
   },
   "outputs": [],
   "source": [
    "scatter_chart.selected = [1, 2, 3, 5]"
   ]
  },
  {
   "cell_type": "markdown",
   "metadata": {},
   "source": [
    "## Example 2: \n",
    "#### A little more on what can be done"
   ]
  },
  {
   "cell_type": "markdown",
   "metadata": {},
   "source": [
    "In the example below, we plot two scatter charts in the same figure and on hovering over the data points, we can see their coordinates using Tooltip."
   ]
  },
  {
   "cell_type": "code",
   "execution_count": 17,
   "metadata": {
    "collapsed": true
   },
   "outputs": [],
   "source": [
    "from bqplot import Tooltip\n",
    "from ipywidgets import *"
   ]
  },
  {
   "cell_type": "code",
   "execution_count": 18,
   "metadata": {
    "collapsed": true
   },
   "outputs": [],
   "source": [
    "x_sc = LinearScale()\n",
    "y_sc = LinearScale()\n",
    "\n",
    "x_data = np.arange(20)\n",
    "y_data = np.random.randn(20)\n",
    "\n",
    "scatter_chart = Scatter(x=x_data, y=y_data, scales= {'x': x_sc, 'y': y_sc}, colors=['dodgerblue'],\n",
    "                        tooltip=Tooltip(fields=['x', 'y', 'name']), names=np.arange(100, 200), names_unique=False, \n",
    "                        display_names=False)\n",
    "\n",
    "scatter_chart2 = Scatter(x=x_data, y=np.random.randn(20), scales= {'x': x_sc, 'y': y_sc}, colors=['orangered'],\n",
    "                         tooltip=Tooltip(fields=['x', 'y', 'name']), names=np.arange(200, 300), names_unique=False, \n",
    "                         display_names=False)\n",
    "\n",
    "ax_x = Axis(scale=x_sc)\n",
    "ax_y = Axis(scale=y_sc, orientation='vertical', tick_format='0.2f')"
   ]
  },
  {
   "cell_type": "code",
   "execution_count": 19,
   "metadata": {},
   "outputs": [
    {
     "data": {
      "application/vnd.jupyter.widget-view+json": {
       "model_id": "7279bcb520c340cfbe4aee18ec0cd25a",
       "version_major": 2,
       "version_minor": 0
      },
      "text/html": [
       "<p>Failed to display Jupyter Widget of type <code>Figure</code>.</p>\n",
       "<p>\n",
       "  If you're reading this message in the Jupyter Notebook or JupyterLab Notebook, it may mean\n",
       "  that the widgets JavaScript is still loading. If this message persists, it\n",
       "  likely means that the widgets JavaScript library is either not installed or\n",
       "  not enabled. See the <a href=\"https://ipywidgets.readthedocs.io/en/stable/user_install.html\">Jupyter\n",
       "  Widgets Documentation</a> for setup instructions.\n",
       "</p>\n",
       "<p>\n",
       "  If you're reading this message in another frontend (for example, a static\n",
       "  rendering on GitHub or <a href=\"https://nbviewer.jupyter.org/\">NBViewer</a>),\n",
       "  it may mean that your frontend doesn't currently support widgets.\n",
       "</p>\n"
      ],
      "text/plain": [
       "Figure(axes=[Axis(scale=LinearScale()), Axis(orientation='vertical', scale=LinearScale(), tick_format='0.2f')], fig_margin={'left': 60, 'bottom': 60, 'right': 60, 'top': 60}, layout=Layout(min_width='125px'), marks=[Scatter(colors=['dodgerblue'], display_names=False, interactions={'hover': 'tooltip'}, names=array([100, 101, 102, 103, 104, 105, 106, 107, 108, 109, 110, 111, 112,\n",
       "       113, 114, 115, 116, 117, 118, 119, 120, 121, 122, 123, 124, 125,\n",
       "       126, 127, 128, 129, 130, 131, 132, 133, 134, 135, 136, 137, 138,\n",
       "       139, 140, 141, 142, 143, 144, 145, 146, 147, 148, 149, 150, 151,\n",
       "       152, 153, 154, 155, 156, 157, 158, 159, 160, 161, 162, 163, 164,\n",
       "       165, 166, 167, 168, 169, 170, 171, 172, 173, 174, 175, 176, 177,\n",
       "       178, 179, 180, 181, 182, 183, 184, 185, 186, 187, 188, 189, 190,\n",
       "       191, 192, 193, 194, 195, 196, 197, 198, 199]), names_unique=False, scales={'x': LinearScale(), 'y': LinearScale()}, scales_metadata={'x': {'orientation': 'horizontal', 'dimension': 'x'}, 'opacity': {'dimension': 'opacity'}, 'y': {'orientation': 'vertical', 'dimension': 'y'}, 'rotation': {'dimension': 'rotation'}, 'color': {'dimension': 'color'}, 'skew': {'dimension': 'skew'}, 'size': {'dimension': 'size'}}, tooltip=Tooltip(fields=['x', 'y', 'name']), tooltip_style={'opacity': 0.9}, x=array([ 0,  1,  2,  3,  4,  5,  6,  7,  8,  9, 10, 11, 12, 13, 14, 15, 16,\n",
       "       17, 18, 19]), y=array([ 2.1001359 ,  1.23108768, -1.63065835, -0.84074233,  1.06524686,\n",
       "       -0.50078697, -0.23385478,  0.05516912, -1.31047239, -0.25623409,\n",
       "        0.6794067 , -1.61371228,  2.54770598,  0.27670264,  0.28612837,\n",
       "        0.30371104, -0.21220331,  0.18436505, -0.94665039,  0.60293696])), Scatter(colors=['orangered'], display_names=False, interactions={'hover': 'tooltip'}, names=array([200, 201, 202, 203, 204, 205, 206, 207, 208, 209, 210, 211, 212,\n",
       "       213, 214, 215, 216, 217, 218, 219, 220, 221, 222, 223, 224, 225,\n",
       "       226, 227, 228, 229, 230, 231, 232, 233, 234, 235, 236, 237, 238,\n",
       "       239, 240, 241, 242, 243, 244, 245, 246, 247, 248, 249, 250, 251,\n",
       "       252, 253, 254, 255, 256, 257, 258, 259, 260, 261, 262, 263, 264,\n",
       "       265, 266, 267, 268, 269, 270, 271, 272, 273, 274, 275, 276, 277,\n",
       "       278, 279, 280, 281, 282, 283, 284, 285, 286, 287, 288, 289, 290,\n",
       "       291, 292, 293, 294, 295, 296, 297, 298, 299]), names_unique=False, scales={'x': LinearScale(), 'y': LinearScale()}, scales_metadata={'x': {'orientation': 'horizontal', 'dimension': 'x'}, 'opacity': {'dimension': 'opacity'}, 'y': {'orientation': 'vertical', 'dimension': 'y'}, 'rotation': {'dimension': 'rotation'}, 'color': {'dimension': 'color'}, 'skew': {'dimension': 'skew'}, 'size': {'dimension': 'size'}}, tooltip=Tooltip(fields=['x', 'y', 'name']), tooltip_style={'opacity': 0.9}, x=array([ 0,  1,  2,  3,  4,  5,  6,  7,  8,  9, 10, 11, 12, 13, 14, 15, 16,\n",
       "       17, 18, 19]), y=array([ 0.36206761,  1.08857784,  1.02728846, -0.24791415,  0.00807253,\n",
       "       -0.81532218, -0.42753132,  0.89860778, -0.4928232 ,  0.05130483,\n",
       "        0.30894252, -1.92795003,  0.97157808,  1.2458931 ,  0.08941219,\n",
       "        1.14903049, -1.7692441 , -1.0688208 , -0.65294615,  1.62116557]))], scale_x=LinearScale(allow_padding=False, max=1.0, min=0.0), scale_y=LinearScale(allow_padding=False, max=1.0, min=0.0))"
      ]
     },
     "metadata": {},
     "output_type": "display_data"
    }
   ],
   "source": [
    "Figure(marks=[scatter_chart, scatter_chart2], axes=[ax_x, ax_y])"
   ]
  },
  {
   "cell_type": "markdown",
   "metadata": {},
   "source": [
    "### Example 3: \n",
    "#### Advanced interactions"
   ]
  },
  {
   "cell_type": "markdown",
   "metadata": {},
   "source": [
    "_bqplot_ allows user defined callbacks which can be used to gain insights about specific regions of the graph. The example below demonstrates implementation of callback using brush selector on a line chart"
   ]
  },
  {
   "cell_type": "code",
   "execution_count": 20,
   "metadata": {
    "collapsed": true
   },
   "outputs": [],
   "source": [
    "from bqplot import DateScale, Lines, interacts\n",
    "from datetime import datetime as py_dtime\n",
    "import pandas as pd"
   ]
  },
  {
   "cell_type": "markdown",
   "metadata": {},
   "source": [
    "Let's create a dataframe with Dates as indices and Profit as a continuous value"
   ]
  },
  {
   "cell_type": "code",
   "execution_count": 21,
   "metadata": {
    "collapsed": true
   },
   "outputs": [],
   "source": [
    "xlabel = 'Profit'"
   ]
  },
  {
   "cell_type": "code",
   "execution_count": 22,
   "metadata": {
    "collapsed": true
   },
   "outputs": [],
   "source": [
    "profit_data = pd.DataFrame(np.cumsum(np.random.randn(50, 1) * 100, axis=0),\n",
    "                          columns=[xlabel],\n",
    "                          index=pd.date_range(start='01-01-2007', periods=50))\n",
    "\n",
    "dates_actual = profit_data.index.values\n",
    "profits = profit_data[xlabel].values"
   ]
  },
  {
   "cell_type": "markdown",
   "metadata": {},
   "source": [
    "Define a line chart with Dates in the x-axis and Profits in the y-axis"
   ]
  },
  {
   "cell_type": "code",
   "execution_count": 23,
   "metadata": {
    "collapsed": true
   },
   "outputs": [],
   "source": [
    "dt_x_brush = DateScale(min=np.datetime64(py_dtime(2006, 12, 20)))\n",
    "lin_y_brush = LinearScale()\n",
    "\n",
    "lc_brush = Lines(x=dates_actual, y=profits,\n",
    "            scales={'x': dt_x_brush, 'y': lin_y_brush})\n",
    "\n",
    "x_ax_brush = Axis(label='Date', scale=dt_x_brush)\n",
    "x_ay_brush = Axis(label=(xlabel), scale=lin_y_brush, orientation='vertical')"
   ]
  },
  {
   "cell_type": "markdown",
   "metadata": {},
   "source": [
    "The dataframe indices of data points in the selected region will be displayed as string in the HTML widget defined below"
   ]
  },
  {
   "cell_type": "code",
   "execution_count": 24,
   "metadata": {
    "collapsed": true
   },
   "outputs": [],
   "source": [
    "db_brush = HTML(value='[]')"
   ]
  },
  {
   "cell_type": "markdown",
   "metadata": {},
   "source": [
    "Define a Brush Interval Selector to select regions of the graph across the x-axis"
   ]
  },
  {
   "cell_type": "code",
   "execution_count": 25,
   "metadata": {
    "collapsed": true
   },
   "outputs": [],
   "source": [
    "brushsel_date = interacts.BrushIntervalSelector(scale=dt_x_brush, marks=[lc_brush], color='FireBrick')"
   ]
  },
  {
   "cell_type": "markdown",
   "metadata": {},
   "source": [
    "Now, we define a function that will be called when the selectors are interacted with - a callback"
   ]
  },
  {
   "cell_type": "code",
   "execution_count": 26,
   "metadata": {
    "collapsed": true
   },
   "outputs": [],
   "source": [
    "def date_brush_change_callback(change):\n",
    "    db_brush.value = str(change.new)"
   ]
  },
  {
   "cell_type": "markdown",
   "metadata": {},
   "source": [
    "The observe function integrates the callback with change in state of selection"
   ]
  },
  {
   "cell_type": "code",
   "execution_count": 27,
   "metadata": {
    "collapsed": true
   },
   "outputs": [],
   "source": [
    "lc_brush.observe(date_brush_change_callback, names=['selected'])"
   ]
  },
  {
   "cell_type": "markdown",
   "metadata": {},
   "source": [
    "The list of data points is _None_ when no region on the graph is selected. Change in list of data point indices based on the region selected in the graph can be observed."
   ]
  },
  {
   "cell_type": "code",
   "execution_count": 28,
   "metadata": {},
   "outputs": [
    {
     "data": {
      "application/vnd.jupyter.widget-view+json": {
       "model_id": "46deb932397b43cabcf247f4fe600809",
       "version_major": 2,
       "version_minor": 0
      },
      "text/html": [
       "<p>Failed to display Jupyter Widget of type <code>VBox</code>.</p>\n",
       "<p>\n",
       "  If you're reading this message in the Jupyter Notebook or JupyterLab Notebook, it may mean\n",
       "  that the widgets JavaScript is still loading. If this message persists, it\n",
       "  likely means that the widgets JavaScript library is either not installed or\n",
       "  not enabled. See the <a href=\"https://ipywidgets.readthedocs.io/en/stable/user_install.html\">Jupyter\n",
       "  Widgets Documentation</a> for setup instructions.\n",
       "</p>\n",
       "<p>\n",
       "  If you're reading this message in another frontend (for example, a static\n",
       "  rendering on GitHub or <a href=\"https://nbviewer.jupyter.org/\">NBViewer</a>),\n",
       "  it may mean that your frontend doesn't currently support widgets.\n",
       "</p>\n"
      ],
      "text/plain": [
       "VBox(children=(HTML(value='[]'), Figure(axes=[Axis(label='Date', scale=DateScale(min=datetime.datetime(2006, 12, 20, 0, 0))), Axis(label='Profit', orientation='vertical', scale=LinearScale())], fig_margin={'left': 60, 'bottom': 60, 'right': 60, 'top': 60}, interaction=BrushIntervalSelector(color='FireBrick', marks=[Lines(colors=['#1f77b4', '#ff7f0e', '#2ca02c', '#d62728', '#9467bd', '#8c564b', '#e377c2', '#7f7f7f', '#bcbd22', '#17becf'], interactions={'hover': 'tooltip'}, scales={'x': DateScale(min=datetime.datetime(2006, 12, 20, 0, 0)), 'y': LinearScale()}, scales_metadata={'color': {'dimension': 'color'}, 'x': {'orientation': 'horizontal', 'dimension': 'x'}, 'y': {'orientation': 'vertical', 'dimension': 'y'}}, tooltip_style={'opacity': 0.9}, x=array(['2007-01-01T00:00:00.000000000', '2007-01-02T00:00:00.000000000',\n",
       "       '2007-01-03T00:00:00.000000000', '2007-01-04T00:00:00.000000000',\n",
       "       '2007-01-05T00:00:00.000000000', '2007-01-06T00:00:00.000000000',\n",
       "       '2007-01-07T00:00:00.000000000', '2007-01-08T00:00:00.000000000',\n",
       "       '2007-01-09T00:00:00.000000000', '2007-01-10T00:00:00.000000000',\n",
       "       '2007-01-11T00:00:00.000000000', '2007-01-12T00:00:00.000000000',\n",
       "       '2007-01-13T00:00:00.000000000', '2007-01-14T00:00:00.000000000',\n",
       "       '2007-01-15T00:00:00.000000000', '2007-01-16T00:00:00.000000000',\n",
       "       '2007-01-17T00:00:00.000000000', '2007-01-18T00:00:00.000000000',\n",
       "       '2007-01-19T00:00:00.000000000', '2007-01-20T00:00:00.000000000',\n",
       "       '2007-01-21T00:00:00.000000000', '2007-01-22T00:00:00.000000000',\n",
       "       '2007-01-23T00:00:00.000000000', '2007-01-24T00:00:00.000000000',\n",
       "       '2007-01-25T00:00:00.000000000', '2007-01-26T00:00:00.000000000',\n",
       "       '2007-01-27T00:00:00.000000000', '2007-01-28T00:00:00.000000000',\n",
       "       '2007-01-29T00:00:00.000000000', '2007-01-30T00:00:00.000000000',\n",
       "       '2007-01-31T00:00:00.000000000', '2007-02-01T00:00:00.000000000',\n",
       "       '2007-02-02T00:00:00.000000000', '2007-02-03T00:00:00.000000000',\n",
       "       '2007-02-04T00:00:00.000000000', '2007-02-05T00:00:00.000000000',\n",
       "       '2007-02-06T00:00:00.000000000', '2007-02-07T00:00:00.000000000',\n",
       "       '2007-02-08T00:00:00.000000000', '2007-02-09T00:00:00.000000000',\n",
       "       '2007-02-10T00:00:00.000000000', '2007-02-11T00:00:00.000000000',\n",
       "       '2007-02-12T00:00:00.000000000', '2007-02-13T00:00:00.000000000',\n",
       "       '2007-02-14T00:00:00.000000000', '2007-02-15T00:00:00.000000000',\n",
       "       '2007-02-16T00:00:00.000000000', '2007-02-17T00:00:00.000000000',\n",
       "       '2007-02-18T00:00:00.000000000', '2007-02-19T00:00:00.000000000'], dtype='datetime64[ns]'), y=array([ -13.45930406,   -9.37964212,  -26.28948737,   -6.61843534,\n",
       "        -67.48559157,  -45.80436082, -163.27189249, -217.7003747 ,\n",
       "       -197.4112484 , -236.48438611, -233.21662077, -198.96404469,\n",
       "       -254.92426176, -280.44321759, -281.09224944, -237.62907741,\n",
       "       -130.30473205,  -34.46307135,    3.93690114, -182.1409866 ,\n",
       "       -141.29252334,  -38.63244927,   36.16083686,  -65.93444588,\n",
       "       -175.29499857, -212.03649626, -409.56621865, -318.29804496,\n",
       "       -460.01904385, -534.75824961, -352.57220981, -473.85321692,\n",
       "       -511.96808122, -471.27337629, -551.44034307, -675.89531572,\n",
       "       -613.12667928, -591.40199591, -604.93232011, -545.5434633 ,\n",
       "       -355.81866998, -478.66446839, -551.44717822, -507.78209385,\n",
       "       -341.94063109, -622.98617361, -704.59186713, -747.27987365,\n",
       "       -750.33843515, -779.83577459]))], scale=DateScale(min=datetime.datetime(2006, 12, 20, 0, 0))), layout=Layout(min_width='125px'), marks=[Lines(colors=['#1f77b4', '#ff7f0e', '#2ca02c', '#d62728', '#9467bd', '#8c564b', '#e377c2', '#7f7f7f', '#bcbd22', '#17becf'], interactions={'hover': 'tooltip'}, scales={'x': DateScale(min=datetime.datetime(2006, 12, 20, 0, 0)), 'y': LinearScale()}, scales_metadata={'color': {'dimension': 'color'}, 'x': {'orientation': 'horizontal', 'dimension': 'x'}, 'y': {'orientation': 'vertical', 'dimension': 'y'}}, tooltip_style={'opacity': 0.9}, x=array(['2007-01-01T00:00:00.000000000', '2007-01-02T00:00:00.000000000',\n",
       "       '2007-01-03T00:00:00.000000000', '2007-01-04T00:00:00.000000000',\n",
       "       '2007-01-05T00:00:00.000000000', '2007-01-06T00:00:00.000000000',\n",
       "       '2007-01-07T00:00:00.000000000', '2007-01-08T00:00:00.000000000',\n",
       "       '2007-01-09T00:00:00.000000000', '2007-01-10T00:00:00.000000000',\n",
       "       '2007-01-11T00:00:00.000000000', '2007-01-12T00:00:00.000000000',\n",
       "       '2007-01-13T00:00:00.000000000', '2007-01-14T00:00:00.000000000',\n",
       "       '2007-01-15T00:00:00.000000000', '2007-01-16T00:00:00.000000000',\n",
       "       '2007-01-17T00:00:00.000000000', '2007-01-18T00:00:00.000000000',\n",
       "       '2007-01-19T00:00:00.000000000', '2007-01-20T00:00:00.000000000',\n",
       "       '2007-01-21T00:00:00.000000000', '2007-01-22T00:00:00.000000000',\n",
       "       '2007-01-23T00:00:00.000000000', '2007-01-24T00:00:00.000000000',\n",
       "       '2007-01-25T00:00:00.000000000', '2007-01-26T00:00:00.000000000',\n",
       "       '2007-01-27T00:00:00.000000000', '2007-01-28T00:00:00.000000000',\n",
       "       '2007-01-29T00:00:00.000000000', '2007-01-30T00:00:00.000000000',\n",
       "       '2007-01-31T00:00:00.000000000', '2007-02-01T00:00:00.000000000',\n",
       "       '2007-02-02T00:00:00.000000000', '2007-02-03T00:00:00.000000000',\n",
       "       '2007-02-04T00:00:00.000000000', '2007-02-05T00:00:00.000000000',\n",
       "       '2007-02-06T00:00:00.000000000', '2007-02-07T00:00:00.000000000',\n",
       "       '2007-02-08T00:00:00.000000000', '2007-02-09T00:00:00.000000000',\n",
       "       '2007-02-10T00:00:00.000000000', '2007-02-11T00:00:00.000000000',\n",
       "       '2007-02-12T00:00:00.000000000', '2007-02-13T00:00:00.000000000',\n",
       "       '2007-02-14T00:00:00.000000000', '2007-02-15T00:00:00.000000000',\n",
       "       '2007-02-16T00:00:00.000000000', '2007-02-17T00:00:00.000000000',\n",
       "       '2007-02-18T00:00:00.000000000', '2007-02-19T00:00:00.000000000'], dtype='datetime64[ns]'), y=array([ -13.45930406,   -9.37964212,  -26.28948737,   -6.61843534,\n",
       "        -67.48559157,  -45.80436082, -163.27189249, -217.7003747 ,\n",
       "       -197.4112484 , -236.48438611, -233.21662077, -198.96404469,\n",
       "       -254.92426176, -280.44321759, -281.09224944, -237.62907741,\n",
       "       -130.30473205,  -34.46307135,    3.93690114, -182.1409866 ,\n",
       "       -141.29252334,  -38.63244927,   36.16083686,  -65.93444588,\n",
       "       -175.29499857, -212.03649626, -409.56621865, -318.29804496,\n",
       "       -460.01904385, -534.75824961, -352.57220981, -473.85321692,\n",
       "       -511.96808122, -471.27337629, -551.44034307, -675.89531572,\n",
       "       -613.12667928, -591.40199591, -604.93232011, -545.5434633 ,\n",
       "       -355.81866998, -478.66446839, -551.44717822, -507.78209385,\n",
       "       -341.94063109, -622.98617361, -704.59186713, -747.27987365,\n",
       "       -750.33843515, -779.83577459]))], scale_x=LinearScale(allow_padding=False, max=1.0, min=0.0), scale_y=LinearScale(allow_padding=False, max=1.0, min=0.0), title='Brush Selector Selected Indices Example')))"
      ]
     },
     "metadata": {},
     "output_type": "display_data"
    }
   ],
   "source": [
    "fig_brush_sel = Figure(marks=[lc_brush], axes=[x_ax_brush, x_ay_brush],\n",
    "                       title='Brush Selector Selected Indices Example', interaction=brushsel_date)\n",
    "\n",
    "VBox([db_brush, fig_brush_sel])"
   ]
  },
  {
   "cell_type": "code",
   "execution_count": null,
   "metadata": {
    "collapsed": true
   },
   "outputs": [],
   "source": []
  }
 ],
 "metadata": {
  "kernelspec": {
   "display_name": "Python 3",
   "language": "python",
   "name": "python3"
  },
  "language_info": {
   "codemirror_mode": {
    "name": "ipython",
    "version": 3
   },
   "file_extension": ".py",
   "mimetype": "text/x-python",
   "name": "python",
   "nbconvert_exporter": "python",
   "pygments_lexer": "ipython3",
   "version": "3.5.3"
  }
 },
 "nbformat": 4,
 "nbformat_minor": 2
}
