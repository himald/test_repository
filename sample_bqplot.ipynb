{
 "cells": [
  {
   "cell_type": "markdown",
   "metadata": {},
   "source": [
    "# __bqplot__\n",
    "\n",
    "Aziz and I met a senior researcher from Bloomberg at JupyterCon, who told us about this framework which is amazing for visualizations! *bqplot* not only allows you to plot visualizations with data, but also enables interaction with the plots to get deeper insights.\n",
    "\n",
    "In *bqplot*, every single attribute of the plot is an interactive widget. This allows the user to integrate any plot with IPython widgets to create a complex and feature rich GUI from just a few simple lines of Python code.\n",
    "\n",
    "Below 3 examples demonstrate various features of the framework."
   ]
  },
  {
   "cell_type": "markdown",
   "metadata": {},
   "source": [
    "## Example 1: \n",
    "#### Simple Interactions"
   ]
  },
  {
   "cell_type": "markdown",
   "metadata": {},
   "source": [
    "Let's start with a simple scatter chart to see how this works.\n",
    "Here are the libraries we need"
   ]
  },
  {
   "cell_type": "code",
   "execution_count": 1,
   "metadata": {
    "collapsed": true
   },
   "outputs": [],
   "source": [
    "from bqplot import LinearScale, Scatter, Axis, Figure, pyplot as plt\n",
    "import numpy as np\n",
    "%matplotlib inline"
   ]
  },
  {
   "cell_type": "markdown",
   "metadata": {},
   "source": [
    "*Scale* is used to map data coordinates to figure coordinates, i.e. it takes a set of values in any arbitrary unit (say number of people, or $, or litres) and converts it to pixels (or colors for a *ColorScale*)"
   ]
  },
  {
   "cell_type": "code",
   "execution_count": 2,
   "metadata": {
    "collapsed": true
   },
   "outputs": [],
   "source": [
    "x_sc = LinearScale()\n",
    "y_sc = LinearScale()"
   ]
  },
  {
   "cell_type": "markdown",
   "metadata": {},
   "source": [
    "Generate some random data for x and y axis"
   ]
  },
  {
   "cell_type": "code",
   "execution_count": 3,
   "metadata": {
    "collapsed": true
   },
   "outputs": [],
   "source": [
    "x_data = np.arange(20)\n",
    "y_data = np.random.randn(20)"
   ]
  },
  {
   "cell_type": "markdown",
   "metadata": {},
   "source": [
    "Plot a scatter chart using the data and scale. In the *interactions* dictionary, we can specify events which trigger interactions which in this case is *click*. We also have the flexibility to customize styles of selected and unselected elements"
   ]
  },
  {
   "cell_type": "code",
   "execution_count": 4,
   "metadata": {
    "collapsed": true
   },
   "outputs": [],
   "source": [
    "scatter_chart = Scatter(x=x_data, y=y_data, scales= {'x': x_sc, 'y': y_sc}, colors=['dodgerblue'],\n",
    "                       interactions={'click': 'select'},\n",
    "                        selected_style={'opacity': 1.0, 'fill': 'DarkOrange', 'stroke': 'Red'},\n",
    "                       unselected_style={'opacity': 0.5})"
   ]
  },
  {
   "cell_type": "markdown",
   "metadata": {},
   "source": [
    "Define the axis for the plot"
   ]
  },
  {
   "cell_type": "code",
   "execution_count": 5,
   "metadata": {
    "collapsed": true
   },
   "outputs": [],
   "source": [
    "ax_x = Axis(scale=x_sc)\n",
    "ax_y = Axis(scale=y_sc, orientation='vertical', tick_format='0.2f')"
   ]
  },
  {
   "cell_type": "markdown",
   "metadata": {},
   "source": [
    "Display the scatter chart"
   ]
  },
  {
   "cell_type": "code",
   "execution_count": 6,
   "metadata": {},
   "outputs": [
    {
     "data": {
      "application/vnd.jupyter.widget-view+json": {
       "model_id": "891e58ac74e644e49be3dd389fceb176",
       "version_major": 2,
       "version_minor": 0
      },
      "text/html": [
       "<p>Failed to display Jupyter Widget of type <code>Figure</code>.</p>\n",
       "<p>\n",
       "  If you're reading this message in the Jupyter Notebook or JupyterLab Notebook, it may mean\n",
       "  that the widgets JavaScript is still loading. If this message persists, it\n",
       "  likely means that the widgets JavaScript library is either not installed or\n",
       "  not enabled. See the <a href=\"https://ipywidgets.readthedocs.io/en/stable/user_install.html\">Jupyter\n",
       "  Widgets Documentation</a> for setup instructions.\n",
       "</p>\n",
       "<p>\n",
       "  If you're reading this message in another frontend (for example, a static\n",
       "  rendering on GitHub or <a href=\"https://nbviewer.jupyter.org/\">NBViewer</a>),\n",
       "  it may mean that your frontend doesn't currently support widgets.\n",
       "</p>\n"
      ],
      "text/plain": [
       "Figure(axes=[Axis(scale=LinearScale()), Axis(orientation='vertical', scale=LinearScale(), tick_format='0.2f')], fig_margin={'bottom': 60, 'left': 60, 'right': 60, 'top': 60}, layout=Layout(min_width='125px'), marks=[Scatter(colors=['dodgerblue'], interactions={'click': 'select'}, scales={'x': LinearScale(), 'y': LinearScale()}, scales_metadata={'color': {'dimension': 'color'}, 'skew': {'dimension': 'skew'}, 'opacity': {'dimension': 'opacity'}, 'rotation': {'dimension': 'rotation'}, 'x': {'orientation': 'horizontal', 'dimension': 'x'}, 'size': {'dimension': 'size'}, 'y': {'orientation': 'vertical', 'dimension': 'y'}}, selected_style={'opacity': 1.0, 'fill': 'DarkOrange', 'stroke': 'Red'}, tooltip_style={'opacity': 0.9}, unselected_style={'opacity': 0.5}, x=array([ 0,  1,  2,  3,  4,  5,  6,  7,  8,  9, 10, 11, 12, 13, 14, 15, 16,\n",
       "       17, 18, 19]), y=array([-1.00642   , -0.34989881,  0.18183407,  1.37967172,  0.47723953,\n",
       "       -0.68904898,  1.5419235 , -1.49789416,  0.21718953,  0.7839193 ,\n",
       "       -1.36082946, -0.24361853, -0.81096552, -1.51137402, -1.3070318 ,\n",
       "       -0.33287642, -0.31834686, -0.29821503, -0.07778395, -0.80767098]))], scale_x=LinearScale(allow_padding=False, max=1.0, min=0.0), scale_y=LinearScale(allow_padding=False, max=1.0, min=0.0))"
      ]
     },
     "metadata": {},
     "output_type": "display_data"
    }
   ],
   "source": [
    "Figure(marks=[scatter_chart], axes=[ax_x, ax_y])"
   ]
  },
  {
   "cell_type": "markdown",
   "metadata": {},
   "source": [
    "Select any data point in the above graph. The code below is used to display x-coordinate of the selected point"
   ]
  },
  {
   "cell_type": "code",
   "execution_count": 7,
   "metadata": {},
   "outputs": [
    {
     "data": {
      "text/plain": [
       "[]"
      ]
     },
     "execution_count": 7,
     "metadata": {},
     "output_type": "execute_result"
    }
   ],
   "source": [
    "scatter_chart.selected"
   ]
  },
  {
   "cell_type": "markdown",
   "metadata": {},
   "source": [
    "We can select data points on the chart from the Python side (see how the graph changes based on the code below)"
   ]
  },
  {
   "cell_type": "code",
   "execution_count": 8,
   "metadata": {
    "collapsed": true
   },
   "outputs": [],
   "source": [
    "scatter_chart.selected = [1, 2, 3, 5]"
   ]
  },
  {
   "cell_type": "markdown",
   "metadata": {},
   "source": [
    "## Example 2: \n",
    "#### A little more on what can be done"
   ]
  },
  {
   "cell_type": "markdown",
   "metadata": {},
   "source": [
    "In the example below, we plot two scatter charts in the same figure and on hovering over the data points, we can see their coordinates using Tooltip."
   ]
  },
  {
   "cell_type": "code",
   "execution_count": 9,
   "metadata": {
    "collapsed": true
   },
   "outputs": [],
   "source": [
    "from bqplot import Tooltip\n",
    "from ipywidgets import *"
   ]
  },
  {
   "cell_type": "code",
   "execution_count": 10,
   "metadata": {
    "collapsed": true
   },
   "outputs": [],
   "source": [
    "x_sc = LinearScale()\n",
    "y_sc = LinearScale()\n",
    "\n",
    "x_data = np.arange(20)\n",
    "y_data = np.random.randn(20)\n",
    "\n",
    "scatter_chart = Scatter(x=x_data, y=y_data, scales= {'x': x_sc, 'y': y_sc}, colors=['dodgerblue'],\n",
    "                        tooltip=Tooltip(fields=['x', 'y', 'name']), names=np.arange(100, 200), names_unique=False, \n",
    "                        display_names=False)\n",
    "\n",
    "scatter_chart2 = Scatter(x=x_data, y=np.random.randn(20), scales= {'x': x_sc, 'y': y_sc}, colors=['orangered'],\n",
    "                         tooltip=Tooltip(fields=['x', 'y', 'name']), names=np.arange(200, 300), names_unique=False, \n",
    "                         display_names=False)\n",
    "\n",
    "ax_x = Axis(scale=x_sc)\n",
    "ax_y = Axis(scale=y_sc, orientation='vertical', tick_format='0.2f')"
   ]
  },
  {
   "cell_type": "code",
   "execution_count": 11,
   "metadata": {},
   "outputs": [
    {
     "data": {
      "application/vnd.jupyter.widget-view+json": {
       "model_id": "c8cf2b5e2e8f431ca0839a7683aa4a34",
       "version_major": 2,
       "version_minor": 0
      },
      "text/html": [
       "<p>Failed to display Jupyter Widget of type <code>Figure</code>.</p>\n",
       "<p>\n",
       "  If you're reading this message in the Jupyter Notebook or JupyterLab Notebook, it may mean\n",
       "  that the widgets JavaScript is still loading. If this message persists, it\n",
       "  likely means that the widgets JavaScript library is either not installed or\n",
       "  not enabled. See the <a href=\"https://ipywidgets.readthedocs.io/en/stable/user_install.html\">Jupyter\n",
       "  Widgets Documentation</a> for setup instructions.\n",
       "</p>\n",
       "<p>\n",
       "  If you're reading this message in another frontend (for example, a static\n",
       "  rendering on GitHub or <a href=\"https://nbviewer.jupyter.org/\">NBViewer</a>),\n",
       "  it may mean that your frontend doesn't currently support widgets.\n",
       "</p>\n"
      ],
      "text/plain": [
       "Figure(axes=[Axis(scale=LinearScale()), Axis(orientation='vertical', scale=LinearScale(), tick_format='0.2f')], fig_margin={'bottom': 60, 'left': 60, 'right': 60, 'top': 60}, layout=Layout(min_width='125px'), marks=[Scatter(colors=['dodgerblue'], display_names=False, interactions={'hover': 'tooltip'}, names=array([100, 101, 102, 103, 104, 105, 106, 107, 108, 109, 110, 111, 112,\n",
       "       113, 114, 115, 116, 117, 118, 119, 120, 121, 122, 123, 124, 125,\n",
       "       126, 127, 128, 129, 130, 131, 132, 133, 134, 135, 136, 137, 138,\n",
       "       139, 140, 141, 142, 143, 144, 145, 146, 147, 148, 149, 150, 151,\n",
       "       152, 153, 154, 155, 156, 157, 158, 159, 160, 161, 162, 163, 164,\n",
       "       165, 166, 167, 168, 169, 170, 171, 172, 173, 174, 175, 176, 177,\n",
       "       178, 179, 180, 181, 182, 183, 184, 185, 186, 187, 188, 189, 190,\n",
       "       191, 192, 193, 194, 195, 196, 197, 198, 199]), names_unique=False, scales={'x': LinearScale(), 'y': LinearScale()}, scales_metadata={'color': {'dimension': 'color'}, 'skew': {'dimension': 'skew'}, 'opacity': {'dimension': 'opacity'}, 'rotation': {'dimension': 'rotation'}, 'x': {'orientation': 'horizontal', 'dimension': 'x'}, 'size': {'dimension': 'size'}, 'y': {'orientation': 'vertical', 'dimension': 'y'}}, tooltip=Tooltip(fields=['x', 'y', 'name']), tooltip_style={'opacity': 0.9}, x=array([ 0,  1,  2,  3,  4,  5,  6,  7,  8,  9, 10, 11, 12, 13, 14, 15, 16,\n",
       "       17, 18, 19]), y=array([ 0.31116388, -0.45661503, -0.88549402, -0.91298935,  0.05620457,\n",
       "        1.42540313, -1.30891943, -0.36776659,  1.19145288, -0.15865097,\n",
       "        0.26105546,  0.65877338, -0.27749935,  0.48114058, -0.81180394,\n",
       "        1.84349202,  0.80501477,  0.7805859 ,  1.59589798, -0.12245369])), Scatter(colors=['orangered'], display_names=False, interactions={'hover': 'tooltip'}, names=array([200, 201, 202, 203, 204, 205, 206, 207, 208, 209, 210, 211, 212,\n",
       "       213, 214, 215, 216, 217, 218, 219, 220, 221, 222, 223, 224, 225,\n",
       "       226, 227, 228, 229, 230, 231, 232, 233, 234, 235, 236, 237, 238,\n",
       "       239, 240, 241, 242, 243, 244, 245, 246, 247, 248, 249, 250, 251,\n",
       "       252, 253, 254, 255, 256, 257, 258, 259, 260, 261, 262, 263, 264,\n",
       "       265, 266, 267, 268, 269, 270, 271, 272, 273, 274, 275, 276, 277,\n",
       "       278, 279, 280, 281, 282, 283, 284, 285, 286, 287, 288, 289, 290,\n",
       "       291, 292, 293, 294, 295, 296, 297, 298, 299]), names_unique=False, scales={'x': LinearScale(), 'y': LinearScale()}, scales_metadata={'color': {'dimension': 'color'}, 'skew': {'dimension': 'skew'}, 'opacity': {'dimension': 'opacity'}, 'rotation': {'dimension': 'rotation'}, 'x': {'orientation': 'horizontal', 'dimension': 'x'}, 'size': {'dimension': 'size'}, 'y': {'orientation': 'vertical', 'dimension': 'y'}}, tooltip=Tooltip(fields=['x', 'y', 'name']), tooltip_style={'opacity': 0.9}, x=array([ 0,  1,  2,  3,  4,  5,  6,  7,  8,  9, 10, 11, 12, 13, 14, 15, 16,\n",
       "       17, 18, 19]), y=array([ 0.72334245, -0.14349255,  0.18504808, -0.05798858, -0.53487493,\n",
       "        0.2383801 , -1.11273274,  0.68864963, -1.1855144 ,  0.07999381,\n",
       "        1.30203531,  0.31603318, -1.62131333,  1.97031962,  0.28236133,\n",
       "        0.9050122 ,  0.01527163, -1.08013135,  0.50016281, -0.70378739]))], scale_x=LinearScale(allow_padding=False, max=1.0, min=0.0), scale_y=LinearScale(allow_padding=False, max=1.0, min=0.0))"
      ]
     },
     "metadata": {},
     "output_type": "display_data"
    }
   ],
   "source": [
    "Figure(marks=[scatter_chart, scatter_chart2], axes=[ax_x, ax_y])"
   ]
  },
  {
   "cell_type": "markdown",
   "metadata": {},
   "source": [
    "### Example 3: \n",
    "#### Advanced interactions"
   ]
  },
  {
   "cell_type": "markdown",
   "metadata": {},
   "source": [
    "_bqplot_ allows user defined callbacks which can be used to gain insights about specific regions of the graph. The example below demonstrates implementation of callback using brush selector on a line chart"
   ]
  },
  {
   "cell_type": "code",
   "execution_count": 12,
   "metadata": {
    "collapsed": true
   },
   "outputs": [],
   "source": [
    "from bqplot import DateScale, Lines, interacts\n",
    "from datetime import datetime as py_dtime\n",
    "import pandas as pd"
   ]
  },
  {
   "cell_type": "markdown",
   "metadata": {},
   "source": [
    "Let's create a dataframe with Dates as indices and Profit as a continuous value"
   ]
  },
  {
   "cell_type": "code",
   "execution_count": 13,
   "metadata": {
    "collapsed": true
   },
   "outputs": [],
   "source": [
    "xlabel = 'Profit'"
   ]
  },
  {
   "cell_type": "code",
   "execution_count": 14,
   "metadata": {
    "collapsed": true
   },
   "outputs": [],
   "source": [
    "profit_data = pd.DataFrame(np.cumsum(np.random.randn(50, 1) * 100, axis=0),\n",
    "                          columns=[xlabel],\n",
    "                          index=pd.date_range(start='01-01-2007', periods=50))\n",
    "\n",
    "dates_actual = profit_data.index.values\n",
    "profits = profit_data[xlabel].values"
   ]
  },
  {
   "cell_type": "markdown",
   "metadata": {},
   "source": [
    "Define a line chart with Dates in the x-axis and Profits in the y-axis"
   ]
  },
  {
   "cell_type": "code",
   "execution_count": 15,
   "metadata": {
    "collapsed": true
   },
   "outputs": [],
   "source": [
    "dt_x_brush = DateScale(min=np.datetime64(py_dtime(2006, 12, 20)))\n",
    "lin_y_brush = LinearScale()\n",
    "\n",
    "lc_brush = Lines(x=dates_actual, y=profits,\n",
    "            scales={'x': dt_x_brush, 'y': lin_y_brush})\n",
    "\n",
    "x_ax_brush = Axis(label='Date', scale=dt_x_brush)\n",
    "x_ay_brush = Axis(label=(xlabel), scale=lin_y_brush, orientation='vertical')"
   ]
  },
  {
   "cell_type": "markdown",
   "metadata": {},
   "source": [
    "The dataframe indices of data points in the selected region will be displayed as string in the HTML widget defined below"
   ]
  },
  {
   "cell_type": "code",
   "execution_count": 16,
   "metadata": {
    "collapsed": true
   },
   "outputs": [],
   "source": [
    "db_brush = HTML(value='[]')"
   ]
  },
  {
   "cell_type": "markdown",
   "metadata": {},
   "source": [
    "Define a Brush Interval Selector to select regions of the graph across the x-axis"
   ]
  },
  {
   "cell_type": "code",
   "execution_count": 17,
   "metadata": {
    "collapsed": true
   },
   "outputs": [],
   "source": [
    "brushsel_date = interacts.BrushIntervalSelector(scale=dt_x_brush, marks=[lc_brush], color='FireBrick')"
   ]
  },
  {
   "cell_type": "markdown",
   "metadata": {},
   "source": [
    "Now, we define a function that will be called when the selectors are interacted with - a callback"
   ]
  },
  {
   "cell_type": "code",
   "execution_count": 18,
   "metadata": {
    "collapsed": true
   },
   "outputs": [],
   "source": [
    "def date_brush_change_callback(change):\n",
    "    db_brush.value = str(change.new)"
   ]
  },
  {
   "cell_type": "markdown",
   "metadata": {},
   "source": [
    "The observe function integrates the callback with change in state of selection"
   ]
  },
  {
   "cell_type": "code",
   "execution_count": 19,
   "metadata": {
    "collapsed": true
   },
   "outputs": [],
   "source": [
    "lc_brush.observe(date_brush_change_callback, names=['selected'])"
   ]
  },
  {
   "cell_type": "markdown",
   "metadata": {},
   "source": [
    "The list of data points is _None_ when no region on the graph is selected. Change in list of data point indices based on the region selected in the graph can be observed."
   ]
  },
  {
   "cell_type": "code",
   "execution_count": 20,
   "metadata": {},
   "outputs": [
    {
     "data": {
      "application/vnd.jupyter.widget-view+json": {
       "model_id": "5f95c5e7689b43c3a1cee4eae98e08d1",
       "version_major": 2,
       "version_minor": 0
      },
      "text/html": [
       "<p>Failed to display Jupyter Widget of type <code>VBox</code>.</p>\n",
       "<p>\n",
       "  If you're reading this message in the Jupyter Notebook or JupyterLab Notebook, it may mean\n",
       "  that the widgets JavaScript is still loading. If this message persists, it\n",
       "  likely means that the widgets JavaScript library is either not installed or\n",
       "  not enabled. See the <a href=\"https://ipywidgets.readthedocs.io/en/stable/user_install.html\">Jupyter\n",
       "  Widgets Documentation</a> for setup instructions.\n",
       "</p>\n",
       "<p>\n",
       "  If you're reading this message in another frontend (for example, a static\n",
       "  rendering on GitHub or <a href=\"https://nbviewer.jupyter.org/\">NBViewer</a>),\n",
       "  it may mean that your frontend doesn't currently support widgets.\n",
       "</p>\n"
      ],
      "text/plain": [
       "VBox(children=(HTML(value='[]'), Figure(axes=[Axis(label='Date', scale=DateScale(min=datetime.datetime(2006, 12, 20, 0, 0))), Axis(label='Profit', orientation='vertical', scale=LinearScale())], fig_margin={'bottom': 60, 'left': 60, 'right': 60, 'top': 60}, interaction=BrushIntervalSelector(color='FireBrick', marks=[Lines(colors=['#1f77b4', '#ff7f0e', '#2ca02c', '#d62728', '#9467bd', '#8c564b', '#e377c2', '#7f7f7f', '#bcbd22', '#17becf'], interactions={'hover': 'tooltip'}, scales={'x': DateScale(min=datetime.datetime(2006, 12, 20, 0, 0)), 'y': LinearScale()}, scales_metadata={'color': {'dimension': 'color'}, 'x': {'orientation': 'horizontal', 'dimension': 'x'}, 'y': {'orientation': 'vertical', 'dimension': 'y'}}, tooltip_style={'opacity': 0.9}, x=array(['2007-01-01T00:00:00.000000000', '2007-01-02T00:00:00.000000000',\n",
       "       '2007-01-03T00:00:00.000000000', '2007-01-04T00:00:00.000000000',\n",
       "       '2007-01-05T00:00:00.000000000', '2007-01-06T00:00:00.000000000',\n",
       "       '2007-01-07T00:00:00.000000000', '2007-01-08T00:00:00.000000000',\n",
       "       '2007-01-09T00:00:00.000000000', '2007-01-10T00:00:00.000000000',\n",
       "       '2007-01-11T00:00:00.000000000', '2007-01-12T00:00:00.000000000',\n",
       "       '2007-01-13T00:00:00.000000000', '2007-01-14T00:00:00.000000000',\n",
       "       '2007-01-15T00:00:00.000000000', '2007-01-16T00:00:00.000000000',\n",
       "       '2007-01-17T00:00:00.000000000', '2007-01-18T00:00:00.000000000',\n",
       "       '2007-01-19T00:00:00.000000000', '2007-01-20T00:00:00.000000000',\n",
       "       '2007-01-21T00:00:00.000000000', '2007-01-22T00:00:00.000000000',\n",
       "       '2007-01-23T00:00:00.000000000', '2007-01-24T00:00:00.000000000',\n",
       "       '2007-01-25T00:00:00.000000000', '2007-01-26T00:00:00.000000000',\n",
       "       '2007-01-27T00:00:00.000000000', '2007-01-28T00:00:00.000000000',\n",
       "       '2007-01-29T00:00:00.000000000', '2007-01-30T00:00:00.000000000',\n",
       "       '2007-01-31T00:00:00.000000000', '2007-02-01T00:00:00.000000000',\n",
       "       '2007-02-02T00:00:00.000000000', '2007-02-03T00:00:00.000000000',\n",
       "       '2007-02-04T00:00:00.000000000', '2007-02-05T00:00:00.000000000',\n",
       "       '2007-02-06T00:00:00.000000000', '2007-02-07T00:00:00.000000000',\n",
       "       '2007-02-08T00:00:00.000000000', '2007-02-09T00:00:00.000000000',\n",
       "       '2007-02-10T00:00:00.000000000', '2007-02-11T00:00:00.000000000',\n",
       "       '2007-02-12T00:00:00.000000000', '2007-02-13T00:00:00.000000000',\n",
       "       '2007-02-14T00:00:00.000000000', '2007-02-15T00:00:00.000000000',\n",
       "       '2007-02-16T00:00:00.000000000', '2007-02-17T00:00:00.000000000',\n",
       "       '2007-02-18T00:00:00.000000000', '2007-02-19T00:00:00.000000000'], dtype='datetime64[ns]'), y=array([-107.84116342, -232.46389605, -274.12447507, -114.71504909,\n",
       "       -137.77779461, -132.35809316,  -94.93526913, -119.472441  ,\n",
       "       -188.98711121,   92.56177573,  165.05721769,   85.45602778,\n",
       "        302.37571765,  204.40439091,  -71.94621139,  -86.63405798,\n",
       "         30.33631292,  201.1777307 ,  210.1989449 ,  241.95763018,\n",
       "        307.26392664,  375.26253421,  374.3718392 ,  490.24244844,\n",
       "        569.42780164,  490.23157824,  586.92444302,  601.75068787,\n",
       "        607.39766163,  658.00420749,  626.52653595,  707.91301444,\n",
       "        779.01809969,  769.44353851,  723.90837142,  800.43271352,\n",
       "        780.2765311 ,  768.83415362,  748.9768192 ,  734.51350538,\n",
       "        728.26446804,  668.43292127,  650.36838012,  540.28559207,\n",
       "        507.5683271 ,  528.37461025,  635.22583156,  788.50306547,\n",
       "        884.39476737,  840.05859981]))], scale=DateScale(min=datetime.datetime(2006, 12, 20, 0, 0))), layout=Layout(min_width='125px'), marks=[Lines(colors=['#1f77b4', '#ff7f0e', '#2ca02c', '#d62728', '#9467bd', '#8c564b', '#e377c2', '#7f7f7f', '#bcbd22', '#17becf'], interactions={'hover': 'tooltip'}, scales={'x': DateScale(min=datetime.datetime(2006, 12, 20, 0, 0)), 'y': LinearScale()}, scales_metadata={'color': {'dimension': 'color'}, 'x': {'orientation': 'horizontal', 'dimension': 'x'}, 'y': {'orientation': 'vertical', 'dimension': 'y'}}, tooltip_style={'opacity': 0.9}, x=array(['2007-01-01T00:00:00.000000000', '2007-01-02T00:00:00.000000000',\n",
       "       '2007-01-03T00:00:00.000000000', '2007-01-04T00:00:00.000000000',\n",
       "       '2007-01-05T00:00:00.000000000', '2007-01-06T00:00:00.000000000',\n",
       "       '2007-01-07T00:00:00.000000000', '2007-01-08T00:00:00.000000000',\n",
       "       '2007-01-09T00:00:00.000000000', '2007-01-10T00:00:00.000000000',\n",
       "       '2007-01-11T00:00:00.000000000', '2007-01-12T00:00:00.000000000',\n",
       "       '2007-01-13T00:00:00.000000000', '2007-01-14T00:00:00.000000000',\n",
       "       '2007-01-15T00:00:00.000000000', '2007-01-16T00:00:00.000000000',\n",
       "       '2007-01-17T00:00:00.000000000', '2007-01-18T00:00:00.000000000',\n",
       "       '2007-01-19T00:00:00.000000000', '2007-01-20T00:00:00.000000000',\n",
       "       '2007-01-21T00:00:00.000000000', '2007-01-22T00:00:00.000000000',\n",
       "       '2007-01-23T00:00:00.000000000', '2007-01-24T00:00:00.000000000',\n",
       "       '2007-01-25T00:00:00.000000000', '2007-01-26T00:00:00.000000000',\n",
       "       '2007-01-27T00:00:00.000000000', '2007-01-28T00:00:00.000000000',\n",
       "       '2007-01-29T00:00:00.000000000', '2007-01-30T00:00:00.000000000',\n",
       "       '2007-01-31T00:00:00.000000000', '2007-02-01T00:00:00.000000000',\n",
       "       '2007-02-02T00:00:00.000000000', '2007-02-03T00:00:00.000000000',\n",
       "       '2007-02-04T00:00:00.000000000', '2007-02-05T00:00:00.000000000',\n",
       "       '2007-02-06T00:00:00.000000000', '2007-02-07T00:00:00.000000000',\n",
       "       '2007-02-08T00:00:00.000000000', '2007-02-09T00:00:00.000000000',\n",
       "       '2007-02-10T00:00:00.000000000', '2007-02-11T00:00:00.000000000',\n",
       "       '2007-02-12T00:00:00.000000000', '2007-02-13T00:00:00.000000000',\n",
       "       '2007-02-14T00:00:00.000000000', '2007-02-15T00:00:00.000000000',\n",
       "       '2007-02-16T00:00:00.000000000', '2007-02-17T00:00:00.000000000',\n",
       "       '2007-02-18T00:00:00.000000000', '2007-02-19T00:00:00.000000000'], dtype='datetime64[ns]'), y=array([-107.84116342, -232.46389605, -274.12447507, -114.71504909,\n",
       "       -137.77779461, -132.35809316,  -94.93526913, -119.472441  ,\n",
       "       -188.98711121,   92.56177573,  165.05721769,   85.45602778,\n",
       "        302.37571765,  204.40439091,  -71.94621139,  -86.63405798,\n",
       "         30.33631292,  201.1777307 ,  210.1989449 ,  241.95763018,\n",
       "        307.26392664,  375.26253421,  374.3718392 ,  490.24244844,\n",
       "        569.42780164,  490.23157824,  586.92444302,  601.75068787,\n",
       "        607.39766163,  658.00420749,  626.52653595,  707.91301444,\n",
       "        779.01809969,  769.44353851,  723.90837142,  800.43271352,\n",
       "        780.2765311 ,  768.83415362,  748.9768192 ,  734.51350538,\n",
       "        728.26446804,  668.43292127,  650.36838012,  540.28559207,\n",
       "        507.5683271 ,  528.37461025,  635.22583156,  788.50306547,\n",
       "        884.39476737,  840.05859981]))], scale_x=LinearScale(allow_padding=False, max=1.0, min=0.0), scale_y=LinearScale(allow_padding=False, max=1.0, min=0.0), title='Brush Selector Selected Indices Example')))"
      ]
     },
     "metadata": {},
     "output_type": "display_data"
    }
   ],
   "source": [
    "fig_brush_sel = Figure(marks=[lc_brush], axes=[x_ax_brush, x_ay_brush],\n",
    "                       title='Brush Selector Selected Indices Example', interaction=brushsel_date)\n",
    "\n",
    "VBox([db_brush, fig_brush_sel])"
   ]
  },
  {
   "cell_type": "code",
   "execution_count": null,
   "metadata": {
    "collapsed": true
   },
   "outputs": [],
   "source": []
  }
 ],
 "metadata": {
  "kernelspec": {
   "display_name": "Python 3",
   "language": "python",
   "name": "python3"
  },
  "language_info": {
   "codemirror_mode": {
    "name": "ipython",
    "version": 3
   },
   "file_extension": ".py",
   "mimetype": "text/x-python",
   "name": "python",
   "nbconvert_exporter": "python",
   "pygments_lexer": "ipython3",
   "version": "3.5.3"
  },
  "widgets": {
   "application/vnd.jupyter.widget-state+json": {
    "state": {
     "05136e921dee4128b4a959433144d043": {
      "model_module": "bqplot",
      "model_module_version": "^0.3.6",
      "model_name": "LinearScaleModel",
      "state": {
       "allow_padding": false,
       "max": 1,
       "min": 0,
       "stabilized": false
      }
     },
     "06cb0179969d4682b27160047439235f": {
      "model_module": "bqplot",
      "model_module_version": "^0.3.6",
      "model_name": "AxisModel",
      "state": {
       "orientation": "vertical",
       "scale": "IPY_MODEL_1b8a8761b02d4e999b11d544afab2ebe",
       "side": "left",
       "tick_format": "0.2f",
       "tick_values": {
        "type": null,
        "values": null
       }
      }
     },
     "08efe23983c34037bd52aa6662dffe31": {
      "model_module": "bqplot",
      "model_module_version": "^0.3.6",
      "model_name": "AxisModel",
      "state": {
       "scale": "IPY_MODEL_9820d84594ed4cdcadf180b10786bb68",
       "side": "bottom",
       "tick_values": {
        "type": null,
        "values": null
       }
      }
     },
     "08f18f90147b441cadae7c527d07f5d5": {
      "model_module": "bqplot",
      "model_module_version": "^0.3.6",
      "model_name": "LinearScaleModel",
      "state": {
       "allow_padding": false,
       "max": 1,
       "min": 0,
       "stabilized": false
      }
     },
     "0b2ea4f569544cfeb8f5f23d4d2f2865": {
      "model_module": "bqplot",
      "model_module_version": "^0.3.6",
      "model_name": "AxisModel",
      "state": {
       "label": "Profit",
       "orientation": "vertical",
       "scale": "IPY_MODEL_5db4ad28988e4fae97c991e3d8f11cc1",
       "side": "left",
       "tick_values": {
        "type": null,
        "values": null
       }
      }
     },
     "0d517099d9564d9a949d2054bc97413d": {
      "model_module": "bqplot",
      "model_module_version": "^0.3.6",
      "model_name": "AxisModel",
      "state": {
       "orientation": "vertical",
       "scale": "IPY_MODEL_3ed20723698142b8b381550157b13948",
       "side": "left",
       "tick_format": "0.2f",
       "tick_values": {
        "type": null,
        "values": null
       }
      }
     },
     "0dd268eabaa4444fb152d4acd36b6127": {
      "model_module": "bqplot",
      "model_module_version": "^0.3.6",
      "model_name": "LinearScaleModel",
      "state": {
       "stabilized": false
      }
     },
     "110e71c6d9c44035ba5ecaad83e2e6b6": {
      "model_module": "bqplot",
      "model_module_version": "^0.3.6",
      "model_name": "ScatterModel",
      "state": {
       "_model_module": "bqplot",
       "_model_module_version": "^0.3.6",
       "_view_count": null,
       "_view_module": "bqplot",
       "_view_module_version": "^0.3.6",
       "apply_clip": true,
       "color": {
        "type": null,
        "values": null
       },
       "colors": [
        "dodgerblue"
       ],
       "display_legend": false,
       "enable_hover": true,
       "hovered_style": {},
       "interactions": {
        "click": "select"
       },
       "labels": [],
       "names": {
        "type": null,
        "values": null
       },
       "opacity": {
        "type": null,
        "values": null
       },
       "preserve_domain": {},
       "rotation": {
        "type": null,
        "values": null
       },
       "scales": {
        "x": "IPY_MODEL_28fef768c8614e0ca56327bb6b50cd85",
        "y": "IPY_MODEL_6b4c070a4a1c40939ab44c23bae76d6e"
       },
       "scales_metadata": {
        "color": {
         "dimension": "color"
        },
        "opacity": {
         "dimension": "opacity"
        },
        "rotation": {
         "dimension": "rotation"
        },
        "size": {
         "dimension": "size"
        },
        "skew": {
         "dimension": "skew"
        },
        "x": {
         "dimension": "x",
         "orientation": "horizontal"
        },
        "y": {
         "dimension": "y",
         "orientation": "vertical"
        }
       },
       "selected": [
        1,
        2,
        3,
        5
       ],
       "selected_style": {
        "fill": "DarkOrange",
        "opacity": 1,
        "stroke": "Red"
       },
       "size": {
        "type": null,
        "values": null
       },
       "skew": {
        "type": null,
        "values": null
       },
       "tooltip": null,
       "tooltip_location": "mouse",
       "tooltip_style": {
        "opacity": 0.9
       },
       "unhovered_style": {},
       "unselected_style": {
        "opacity": 0.5
       },
       "visible": true,
       "x": {
        "type": "float",
        "values": [
         0,
         1,
         2,
         3,
         4,
         5,
         6,
         7,
         8,
         9,
         10,
         11,
         12,
         13,
         14,
         15,
         16,
         17,
         18,
         19
        ]
       },
       "y": {
        "type": "float",
        "values": [
         -1.0064200046166787,
         -0.3498988058400823,
         0.18183406574083857,
         1.3796717221220087,
         0.47723953245096773,
         -0.6890489830900144,
         1.5419235017373938,
         -1.4978941580944576,
         0.21718953078398884,
         0.783919301963982,
         -1.360829459812195,
         -0.2436185341245881,
         -0.8109655201435708,
         -1.5113740155707371,
         -1.3070318046510132,
         -0.33287641859421013,
         -0.3183468646401529,
         -0.2982150251552287,
         -0.07778395128495712,
         -0.8076709827689403
        ]
       }
      }
     },
     "1b20a5bc8f954dff9ab1917803f9448c": {
      "model_module": "bqplot",
      "model_module_version": "^0.3.6",
      "model_name": "AxisModel",
      "state": {
       "scale": "IPY_MODEL_1de7c9c59985458b8232b79ff6e4b4f6",
       "side": "bottom",
       "tick_values": {
        "type": null,
        "values": null
       }
      }
     },
     "1b8a8761b02d4e999b11d544afab2ebe": {
      "model_module": "bqplot",
      "model_module_version": "^0.3.6",
      "model_name": "LinearScaleModel",
      "state": {
       "stabilized": false
      }
     },
     "1de7c9c59985458b8232b79ff6e4b4f6": {
      "model_module": "bqplot",
      "model_module_version": "^0.3.6",
      "model_name": "LinearScaleModel",
      "state": {
       "stabilized": false
      }
     },
     "225db8719e1d4ae0aaa5fb86cc223cc7": {
      "model_module": "bqplot",
      "model_module_version": "^0.3.6",
      "model_name": "LinearScaleModel",
      "state": {
       "allow_padding": false,
       "max": 1,
       "min": 0,
       "stabilized": false
      }
     },
     "243401740ae442dd9cbb528c28cef6a9": {
      "model_module": "bqplot",
      "model_module_version": "^0.3.6",
      "model_name": "ScatterModel",
      "state": {
       "_model_module": "bqplot",
       "_model_module_version": "^0.3.6",
       "_view_count": null,
       "_view_module": "bqplot",
       "_view_module_version": "^0.3.6",
       "apply_clip": true,
       "color": {
        "type": null,
        "values": null
       },
       "colors": [
        "dodgerblue"
       ],
       "display_legend": false,
       "enable_hover": true,
       "hovered_style": {},
       "interactions": {
        "click": "select"
       },
       "labels": [],
       "names": {
        "type": null,
        "values": null
       },
       "opacity": {
        "type": null,
        "values": null
       },
       "preserve_domain": {},
       "rotation": {
        "type": null,
        "values": null
       },
       "scales": {
        "x": "IPY_MODEL_9820d84594ed4cdcadf180b10786bb68",
        "y": "IPY_MODEL_663fce13c1b84aaba1e980e920a51813"
       },
       "scales_metadata": {
        "color": {
         "dimension": "color"
        },
        "opacity": {
         "dimension": "opacity"
        },
        "rotation": {
         "dimension": "rotation"
        },
        "size": {
         "dimension": "size"
        },
        "skew": {
         "dimension": "skew"
        },
        "x": {
         "dimension": "x",
         "orientation": "horizontal"
        },
        "y": {
         "dimension": "y",
         "orientation": "vertical"
        }
       },
       "selected": [
        1,
        2,
        3,
        5
       ],
       "selected_style": {
        "fill": "DarkOrange",
        "opacity": 1,
        "stroke": "Red"
       },
       "size": {
        "type": null,
        "values": null
       },
       "skew": {
        "type": null,
        "values": null
       },
       "tooltip": null,
       "tooltip_location": "mouse",
       "tooltip_style": {
        "opacity": 0.9
       },
       "unhovered_style": {},
       "unselected_style": {
        "opacity": 0.5
       },
       "visible": true,
       "x": {
        "type": "float",
        "values": [
         0,
         1,
         2,
         3,
         4,
         5,
         6,
         7,
         8,
         9,
         10,
         11,
         12,
         13,
         14,
         15,
         16,
         17,
         18,
         19
        ]
       },
       "y": {
        "type": "float",
        "values": [
         -0.6264121621211286,
         -0.3776522198760601,
         0.05902975924731975,
         -0.00727998816366966,
         -0.2528231534662622,
         0.4157896658919422,
         -0.2724039785905871,
         0.4416274306764707,
         2.3031117907580865,
         -0.03315407451826574,
         0.14215220357896888,
         0.24570913902190755,
         0.6037519419018665,
         0.6805057932100316,
         0.4950712714032089,
         1.0901523472528798,
         -0.47916138165580724,
         0.32597192233031097,
         0.18263371495362693,
         -0.9280680209122172
        ]
       }
      }
     },
     "28fef768c8614e0ca56327bb6b50cd85": {
      "model_module": "bqplot",
      "model_module_version": "^0.3.6",
      "model_name": "LinearScaleModel",
      "state": {
       "stabilized": false
      }
     },
     "2c7dfabc8b7749ac939474c763e4b0f2": {
      "model_module": "@jupyter-widgets/base",
      "model_module_version": "1.0.0",
      "model_name": "LayoutModel",
      "state": {}
     },
     "2d9802521df04f6b9d395e8936ee6a6c": {
      "model_module": "bqplot",
      "model_module_version": "^0.3.6",
      "model_name": "ScatterModel",
      "state": {
       "_model_module": "bqplot",
       "_model_module_version": "^0.3.6",
       "_view_count": null,
       "_view_module": "bqplot",
       "_view_module_version": "^0.3.6",
       "apply_clip": true,
       "color": {
        "type": null,
        "values": null
       },
       "colors": [
        "orangered"
       ],
       "display_legend": false,
       "display_names": false,
       "enable_hover": true,
       "hovered_style": {},
       "interactions": {
        "hover": "tooltip"
       },
       "labels": [],
       "names": {
        "type": "float",
        "values": [
         200,
         201,
         202,
         203,
         204,
         205,
         206,
         207,
         208,
         209,
         210,
         211,
         212,
         213,
         214,
         215,
         216,
         217,
         218,
         219,
         220,
         221,
         222,
         223,
         224,
         225,
         226,
         227,
         228,
         229,
         230,
         231,
         232,
         233,
         234,
         235,
         236,
         237,
         238,
         239,
         240,
         241,
         242,
         243,
         244,
         245,
         246,
         247,
         248,
         249,
         250,
         251,
         252,
         253,
         254,
         255,
         256,
         257,
         258,
         259,
         260,
         261,
         262,
         263,
         264,
         265,
         266,
         267,
         268,
         269,
         270,
         271,
         272,
         273,
         274,
         275,
         276,
         277,
         278,
         279,
         280,
         281,
         282,
         283,
         284,
         285,
         286,
         287,
         288,
         289,
         290,
         291,
         292,
         293,
         294,
         295,
         296,
         297,
         298,
         299
        ]
       },
       "names_unique": false,
       "opacity": {
        "type": null,
        "values": null
       },
       "preserve_domain": {},
       "rotation": {
        "type": null,
        "values": null
       },
       "scales": {
        "x": "IPY_MODEL_0dd268eabaa4444fb152d4acd36b6127",
        "y": "IPY_MODEL_c11a56b6e7544fb6acdc18bb5c34cf18"
       },
       "scales_metadata": {
        "color": {
         "dimension": "color"
        },
        "opacity": {
         "dimension": "opacity"
        },
        "rotation": {
         "dimension": "rotation"
        },
        "size": {
         "dimension": "size"
        },
        "skew": {
         "dimension": "skew"
        },
        "x": {
         "dimension": "x",
         "orientation": "horizontal"
        },
        "y": {
         "dimension": "y",
         "orientation": "vertical"
        }
       },
       "selected": [],
       "selected_style": {},
       "size": {
        "type": null,
        "values": null
       },
       "skew": {
        "type": null,
        "values": null
       },
       "tooltip": "IPY_MODEL_93af345316ef40ba98706b5903ed9714",
       "tooltip_location": "mouse",
       "tooltip_style": {
        "opacity": 0.9
       },
       "unhovered_style": {},
       "unselected_style": {},
       "visible": true,
       "x": {
        "type": "float",
        "values": [
         0,
         1,
         2,
         3,
         4,
         5,
         6,
         7,
         8,
         9,
         10,
         11,
         12,
         13,
         14,
         15,
         16,
         17,
         18,
         19
        ]
       },
       "y": {
        "type": "float",
        "values": [
         0.3620676126883061,
         1.0885778442014575,
         1.0272884597532133,
         -0.24791414844610665,
         0.008072527933382614,
         -0.8153221848557906,
         -0.4275313214414403,
         0.8986077799017418,
         -0.4928231998512747,
         0.05130483119187574,
         0.30894252117324805,
         -1.927950032160858,
         0.9715780766464497,
         1.2458931018357529,
         0.08941218786274754,
         1.1490304903639148,
         -1.7692441007258108,
         -1.0688207950097623,
         -0.6529461516287077,
         1.6211655704493897
        ]
       }
      }
     },
     "2f12cc011bbf40d99090e457722e14e3": {
      "model_module": "@jupyter-widgets/base",
      "model_module_version": "1.0.0",
      "model_name": "LayoutModel",
      "state": {
       "min_width": "125px"
      }
     },
     "3865948f1df846f58ffeb47e7e316206": {
      "model_module": "bqplot",
      "model_module_version": "^0.3.6",
      "model_name": "FigureModel",
      "state": {
       "_dom_classes": [],
       "axes": [
        "IPY_MODEL_7957e9a150ba43c786ddface3b8b34ae",
        "IPY_MODEL_0d517099d9564d9a949d2054bc97413d"
       ],
       "layout": "IPY_MODEL_b971af62a7b2454888397bd8ef151a67",
       "marks": [
        "IPY_MODEL_7a4cdb3817bd4c94a87989c3ad6f83ef"
       ],
       "max_aspect_ratio": 6,
       "scale_x": "IPY_MODEL_8a18d913dcd0437fafbd88142e911f09",
       "scale_y": "IPY_MODEL_fb1ae0e1375f4c988090b749f6a0c343"
      }
     },
     "39420727fdef4467b94744754469ac19": {
      "model_module": "@jupyter-widgets/controls",
      "model_module_version": "1.1.0",
      "model_name": "DescriptionStyleModel",
      "state": {
       "description_width": ""
      }
     },
     "39ffd4e1372d4141aa0de1d6cd39a77d": {
      "model_module": "@jupyter-widgets/base",
      "model_module_version": "1.0.0",
      "model_name": "LayoutModel",
      "state": {
       "min_width": "125px"
      }
     },
     "3ed20723698142b8b381550157b13948": {
      "model_module": "bqplot",
      "model_module_version": "^0.3.6",
      "model_name": "LinearScaleModel",
      "state": {
       "stabilized": false
      }
     },
     "407d1e3d7cd24fe7993b09c52bc27ed2": {
      "model_module": "bqplot",
      "model_module_version": "^0.3.6",
      "model_name": "AxisModel",
      "state": {
       "orientation": "vertical",
       "scale": "IPY_MODEL_c11a56b6e7544fb6acdc18bb5c34cf18",
       "side": "left",
       "tick_format": "0.2f",
       "tick_values": {
        "type": null,
        "values": null
       }
      }
     },
     "40a790daf9d54494bc5f3fc0e58eb320": {
      "model_module": "bqplot",
      "model_module_version": "^0.3.6",
      "model_name": "LinearScaleModel",
      "state": {
       "allow_padding": false,
       "max": 1,
       "min": 0,
       "stabilized": false
      }
     },
     "42555c0516c84d9693f6652b3d0dd0e7": {
      "model_module": "@jupyter-widgets/controls",
      "model_module_version": "1.1.0",
      "model_name": "DescriptionStyleModel",
      "state": {
       "description_width": ""
      }
     },
     "42959c88527e4de99a2303e5acad448a": {
      "model_module": "@jupyter-widgets/base",
      "model_module_version": "1.0.0",
      "model_name": "LayoutModel",
      "state": {}
     },
     "43178f0d11ab414aa019f552282a7457": {
      "model_module": "@jupyter-widgets/controls",
      "model_module_version": "1.1.0",
      "model_name": "HTMLModel",
      "state": {
       "layout": "IPY_MODEL_b39c1ddaf4304f3e85f05d6ecbd408ad",
       "style": "IPY_MODEL_42555c0516c84d9693f6652b3d0dd0e7",
       "value": "None"
      }
     },
     "46deb932397b43cabcf247f4fe600809": {
      "model_module": "@jupyter-widgets/controls",
      "model_module_version": "1.1.0",
      "model_name": "VBoxModel",
      "state": {
       "children": [
        "IPY_MODEL_b1a3e13d5b504118b76efa9d3860f9e5",
        "IPY_MODEL_aaca16f32996402ea17dd617f06e9aa1"
       ],
       "layout": "IPY_MODEL_42959c88527e4de99a2303e5acad448a"
      }
     },
     "476567d8082045878895486f1f3c5056": {
      "model_module": "bqplot",
      "model_module_version": "^0.3.6",
      "model_name": "ScatterModel",
      "state": {
       "_model_module": "bqplot",
       "_model_module_version": "^0.3.6",
       "_view_count": null,
       "_view_module": "bqplot",
       "_view_module_version": "^0.3.6",
       "apply_clip": true,
       "color": {
        "type": null,
        "values": null
       },
       "colors": [
        "orangered"
       ],
       "display_legend": false,
       "display_names": false,
       "enable_hover": true,
       "hovered_style": {},
       "interactions": {
        "hover": "tooltip"
       },
       "labels": [],
       "names": {
        "type": "float",
        "values": [
         200,
         201,
         202,
         203,
         204,
         205,
         206,
         207,
         208,
         209,
         210,
         211,
         212,
         213,
         214,
         215,
         216,
         217,
         218,
         219,
         220,
         221,
         222,
         223,
         224,
         225,
         226,
         227,
         228,
         229,
         230,
         231,
         232,
         233,
         234,
         235,
         236,
         237,
         238,
         239,
         240,
         241,
         242,
         243,
         244,
         245,
         246,
         247,
         248,
         249,
         250,
         251,
         252,
         253,
         254,
         255,
         256,
         257,
         258,
         259,
         260,
         261,
         262,
         263,
         264,
         265,
         266,
         267,
         268,
         269,
         270,
         271,
         272,
         273,
         274,
         275,
         276,
         277,
         278,
         279,
         280,
         281,
         282,
         283,
         284,
         285,
         286,
         287,
         288,
         289,
         290,
         291,
         292,
         293,
         294,
         295,
         296,
         297,
         298,
         299
        ]
       },
       "names_unique": false,
       "opacity": {
        "type": null,
        "values": null
       },
       "preserve_domain": {},
       "rotation": {
        "type": null,
        "values": null
       },
       "scales": {
        "x": "IPY_MODEL_1de7c9c59985458b8232b79ff6e4b4f6",
        "y": "IPY_MODEL_1b8a8761b02d4e999b11d544afab2ebe"
       },
       "scales_metadata": {
        "color": {
         "dimension": "color"
        },
        "opacity": {
         "dimension": "opacity"
        },
        "rotation": {
         "dimension": "rotation"
        },
        "size": {
         "dimension": "size"
        },
        "skew": {
         "dimension": "skew"
        },
        "x": {
         "dimension": "x",
         "orientation": "horizontal"
        },
        "y": {
         "dimension": "y",
         "orientation": "vertical"
        }
       },
       "selected": [],
       "selected_style": {},
       "size": {
        "type": null,
        "values": null
       },
       "skew": {
        "type": null,
        "values": null
       },
       "tooltip": "IPY_MODEL_aae6806199394c0b915073fbea2f9490",
       "tooltip_location": "mouse",
       "tooltip_style": {
        "opacity": 0.9
       },
       "unhovered_style": {},
       "unselected_style": {},
       "visible": true,
       "x": {
        "type": "float",
        "values": [
         0,
         1,
         2,
         3,
         4,
         5,
         6,
         7,
         8,
         9,
         10,
         11,
         12,
         13,
         14,
         15,
         16,
         17,
         18,
         19
        ]
       },
       "y": {
        "type": "float",
        "values": [
         0.7233424542974519,
         -0.1434925509528886,
         0.18504808026650588,
         -0.05798858200962742,
         -0.5348749319069475,
         0.23838010490842704,
         -1.1127327421584472,
         0.6886496271611092,
         -1.1855144007965697,
         0.0799938105603283,
         1.3020353104845188,
         0.31603318117302065,
         -1.6213133277699108,
         1.9703196238619787,
         0.28236133102597366,
         0.9050122012125694,
         0.015271633907039475,
         -1.0801313453388608,
         0.5001628120732152,
         -0.7037873903703121
        ]
       }
      }
     },
     "50a27d7e1b7740f0a23074f80a0bf83d": {
      "model_module": "@jupyter-widgets/base",
      "model_module_version": "1.0.0",
      "model_name": "LayoutModel",
      "state": {}
     },
     "565bd3d8033d44a5b87d1f1f93c2478b": {
      "model_module": "bqplot",
      "model_module_version": "^0.3.6",
      "model_name": "DateScaleModel",
      "state": {
       "min": "2006-12-20T00:00:00.000000"
      }
     },
     "5a5d425f03f649c5844819450e5747f6": {
      "model_module": "bqplot",
      "model_module_version": "^0.3.6",
      "model_name": "AxisModel",
      "state": {
       "orientation": "vertical",
       "scale": "IPY_MODEL_6b4c070a4a1c40939ab44c23bae76d6e",
       "side": "left",
       "tick_format": "0.2f",
       "tick_values": {
        "type": null,
        "values": null
       }
      }
     },
     "5db4ad28988e4fae97c991e3d8f11cc1": {
      "model_module": "bqplot",
      "model_module_version": "^0.3.6",
      "model_name": "LinearScaleModel",
      "state": {
       "stabilized": false
      }
     },
     "5f95c5e7689b43c3a1cee4eae98e08d1": {
      "model_module": "@jupyter-widgets/controls",
      "model_module_version": "1.1.0",
      "model_name": "VBoxModel",
      "state": {
       "children": [
        "IPY_MODEL_43178f0d11ab414aa019f552282a7457",
        "IPY_MODEL_d68cf9e069b5472e827e6233ba97c16e"
       ],
       "layout": "IPY_MODEL_f2acd6e70c484a80b24d0ca37f934e26"
      }
     },
     "5fc041b9659b420ebf8662c226791cd2": {
      "model_module": "@jupyter-widgets/base",
      "model_module_version": "1.0.0",
      "model_name": "LayoutModel",
      "state": {
       "min_width": "125px"
      }
     },
     "663fce13c1b84aaba1e980e920a51813": {
      "model_module": "bqplot",
      "model_module_version": "^0.3.6",
      "model_name": "LinearScaleModel",
      "state": {
       "stabilized": false
      }
     },
     "6b4c070a4a1c40939ab44c23bae76d6e": {
      "model_module": "bqplot",
      "model_module_version": "^0.3.6",
      "model_name": "LinearScaleModel",
      "state": {
       "stabilized": false
      }
     },
     "6c3c1c75329b4434a4f1a8b4229e69e7": {
      "model_module": "@jupyter-widgets/base",
      "model_module_version": "1.0.0",
      "model_name": "LayoutModel",
      "state": {}
     },
     "6c821243a0c64c129ff6bad5e57ac42b": {
      "model_module": "bqplot",
      "model_module_version": "^0.3.6",
      "model_name": "AxisModel",
      "state": {
       "orientation": "vertical",
       "scale": "IPY_MODEL_663fce13c1b84aaba1e980e920a51813",
       "side": "left",
       "tick_format": "0.2f",
       "tick_values": {
        "type": null,
        "values": null
       }
      }
     },
     "7170e6271989468c909e31d2a9ab26a8": {
      "model_module": "bqplot",
      "model_module_version": "^0.3.6",
      "model_name": "BrushIntervalSelectorModel",
      "state": {
       "color": "FireBrick",
       "marks": [
        "IPY_MODEL_71ea1694d4d745b6914e58ad68e0f1aa"
       ],
       "scale": "IPY_MODEL_93e48c1b473c4e4182103f3a70df4cd3",
       "selected": {
        "type": "object",
        "values": []
       }
      }
     },
     "71ea1694d4d745b6914e58ad68e0f1aa": {
      "model_module": "bqplot",
      "model_module_version": "^0.3.6",
      "model_name": "LinesModel",
      "state": {
       "color": {
        "type": null,
        "values": null
       },
       "display_legend": false,
       "fill_colors": [],
       "labels": [
        "C1"
       ],
       "scales": {
        "x": "IPY_MODEL_93e48c1b473c4e4182103f3a70df4cd3",
        "y": "IPY_MODEL_5db4ad28988e4fae97c991e3d8f11cc1"
       },
       "x": {
        "type": "date",
        "values": [
         "2007-01-01T00:00:00.000000",
         "2007-01-02T00:00:00.000000",
         "2007-01-03T00:00:00.000000",
         "2007-01-04T00:00:00.000000",
         "2007-01-05T00:00:00.000000",
         "2007-01-06T00:00:00.000000",
         "2007-01-07T00:00:00.000000",
         "2007-01-08T00:00:00.000000",
         "2007-01-09T00:00:00.000000",
         "2007-01-10T00:00:00.000000",
         "2007-01-11T00:00:00.000000",
         "2007-01-12T00:00:00.000000",
         "2007-01-13T00:00:00.000000",
         "2007-01-14T00:00:00.000000",
         "2007-01-15T00:00:00.000000",
         "2007-01-16T00:00:00.000000",
         "2007-01-17T00:00:00.000000",
         "2007-01-18T00:00:00.000000",
         "2007-01-19T00:00:00.000000",
         "2007-01-20T00:00:00.000000",
         "2007-01-21T00:00:00.000000",
         "2007-01-22T00:00:00.000000",
         "2007-01-23T00:00:00.000000",
         "2007-01-24T00:00:00.000000",
         "2007-01-25T00:00:00.000000",
         "2007-01-26T00:00:00.000000",
         "2007-01-27T00:00:00.000000",
         "2007-01-28T00:00:00.000000",
         "2007-01-29T00:00:00.000000",
         "2007-01-30T00:00:00.000000",
         "2007-01-31T00:00:00.000000",
         "2007-02-01T00:00:00.000000",
         "2007-02-02T00:00:00.000000",
         "2007-02-03T00:00:00.000000",
         "2007-02-04T00:00:00.000000",
         "2007-02-05T00:00:00.000000",
         "2007-02-06T00:00:00.000000",
         "2007-02-07T00:00:00.000000",
         "2007-02-08T00:00:00.000000",
         "2007-02-09T00:00:00.000000",
         "2007-02-10T00:00:00.000000",
         "2007-02-11T00:00:00.000000",
         "2007-02-12T00:00:00.000000",
         "2007-02-13T00:00:00.000000",
         "2007-02-14T00:00:00.000000",
         "2007-02-15T00:00:00.000000",
         "2007-02-16T00:00:00.000000",
         "2007-02-17T00:00:00.000000",
         "2007-02-18T00:00:00.000000",
         "2007-02-19T00:00:00.000000"
        ]
       },
       "y": {
        "type": "float",
        "values": [
         -107.84116341901078,
         -232.46389604726068,
         -274.12447506651023,
         -114.71504909213331,
         -137.77779460607508,
         -132.3580931625251,
         -94.93526912778978,
         -119.47244099752369,
         -188.9871112118695,
         92.56177572670362,
         165.057217694559,
         85.45602777689439,
         302.37571764901287,
         204.40439091025104,
         -71.94621138711688,
         -86.6340579782429,
         30.336312916472423,
         201.1777307001063,
         210.19894490265682,
         241.95763017703047,
         307.26392663655565,
         375.2625342070712,
         374.3718391983189,
         490.24244844335215,
         569.4278016371344,
         490.231578244233,
         586.9244430232981,
         601.7506878729215,
         607.3976616328329,
         658.0042074858698,
         626.5265359511897,
         707.9130144410773,
         779.0180996942253,
         769.4435385111781,
         723.9083714179862,
         800.4327135168329,
         780.2765310958673,
         768.8341536153837,
         748.9768192005148,
         734.5135053829134,
         728.2644680428582,
         668.4329212734795,
         650.3683801183739,
         540.2855920747293,
         507.5683270996844,
         528.3746102538305,
         635.2258315558913,
         788.5030654700402,
         884.3947673667635,
         840.058599812019
        ]
       }
      }
     },
     "726366c2217f4605875a609b00941e7d": {
      "model_module": "bqplot",
      "model_module_version": "^0.3.6",
      "model_name": "LinearScaleModel",
      "state": {
       "allow_padding": false,
       "max": 1,
       "min": 0,
       "stabilized": false
      }
     },
     "7279bcb520c340cfbe4aee18ec0cd25a": {
      "model_module": "bqplot",
      "model_module_version": "^0.3.6",
      "model_name": "FigureModel",
      "state": {
       "_dom_classes": [],
       "axes": [
        "IPY_MODEL_9d99178dd9f24e05aeb3f17895df9407",
        "IPY_MODEL_407d1e3d7cd24fe7993b09c52bc27ed2"
       ],
       "layout": "IPY_MODEL_2f12cc011bbf40d99090e457722e14e3",
       "marks": [
        "IPY_MODEL_e2ead698e1a942cf9281e2c582efde5c",
        "IPY_MODEL_2d9802521df04f6b9d395e8936ee6a6c"
       ],
       "max_aspect_ratio": 6,
       "scale_x": "IPY_MODEL_8695f6df56b445b091d17982301e2988",
       "scale_y": "IPY_MODEL_d9f9aeb194f44549b9d678c03f0e2a34"
      }
     },
     "741c2e519cde42deaec37088694fcca9": {
      "model_module": "bqplot",
      "model_module_version": "^0.3.6",
      "model_name": "TooltipModel",
      "state": {
       "fields": [
        "x",
        "y",
        "name"
       ],
       "layout": "IPY_MODEL_c7490d79a21845bd950d36c5a99d9671"
      }
     },
     "7933dfc67d004f20a55e8e556740e927": {
      "model_module": "bqplot",
      "model_module_version": "^0.3.6",
      "model_name": "FigureModel",
      "state": {
       "_dom_classes": [],
       "axes": [
        "IPY_MODEL_08efe23983c34037bd52aa6662dffe31",
        "IPY_MODEL_6c821243a0c64c129ff6bad5e57ac42b"
       ],
       "layout": "IPY_MODEL_5fc041b9659b420ebf8662c226791cd2",
       "marks": [
        "IPY_MODEL_243401740ae442dd9cbb528c28cef6a9"
       ],
       "max_aspect_ratio": 6,
       "scale_x": "IPY_MODEL_e1b77aafc51d419a87cce6c5fa20f98d",
       "scale_y": "IPY_MODEL_a3e35882d56247efa9b2935f839a4c62"
      }
     },
     "7957e9a150ba43c786ddface3b8b34ae": {
      "model_module": "bqplot",
      "model_module_version": "^0.3.6",
      "model_name": "AxisModel",
      "state": {
       "scale": "IPY_MODEL_b3d11c26653246f2ad9c6fc152764b61",
       "side": "bottom",
       "tick_values": {
        "type": null,
        "values": null
       }
      }
     },
     "7a4cdb3817bd4c94a87989c3ad6f83ef": {
      "model_module": "bqplot",
      "model_module_version": "^0.3.6",
      "model_name": "ScatterModel",
      "state": {
       "_model_module": "bqplot",
       "_model_module_version": "^0.3.6",
       "_view_count": null,
       "_view_module": "bqplot",
       "_view_module_version": "^0.3.6",
       "apply_clip": true,
       "color": {
        "type": null,
        "values": null
       },
       "colors": [
        "dodgerblue"
       ],
       "display_legend": false,
       "enable_hover": true,
       "hovered_style": {},
       "interactions": {
        "click": "select"
       },
       "labels": [],
       "names": {
        "type": null,
        "values": null
       },
       "opacity": {
        "type": null,
        "values": null
       },
       "preserve_domain": {},
       "rotation": {
        "type": null,
        "values": null
       },
       "scales": {
        "x": "IPY_MODEL_b3d11c26653246f2ad9c6fc152764b61",
        "y": "IPY_MODEL_3ed20723698142b8b381550157b13948"
       },
       "scales_metadata": {
        "color": {
         "dimension": "color"
        },
        "opacity": {
         "dimension": "opacity"
        },
        "rotation": {
         "dimension": "rotation"
        },
        "size": {
         "dimension": "size"
        },
        "skew": {
         "dimension": "skew"
        },
        "x": {
         "dimension": "x",
         "orientation": "horizontal"
        },
        "y": {
         "dimension": "y",
         "orientation": "vertical"
        }
       },
       "selected": [],
       "selected_style": {
        "fill": "DarkOrange",
        "opacity": 1,
        "stroke": "Red"
       },
       "size": {
        "type": null,
        "values": null
       },
       "skew": {
        "type": null,
        "values": null
       },
       "tooltip": null,
       "tooltip_location": "mouse",
       "tooltip_style": {
        "opacity": 0.9
       },
       "unhovered_style": {},
       "unselected_style": {
        "opacity": 0.5
       },
       "visible": true,
       "x": {
        "type": "float",
        "values": [
         0,
         1,
         2,
         3,
         4,
         5,
         6,
         7,
         8,
         9,
         10,
         11,
         12,
         13,
         14,
         15,
         16,
         17,
         18,
         19
        ]
       },
       "y": {
        "type": "float",
        "values": [
         -0.6968181968115778,
         -0.17266036817550862,
         0.7363859307661962,
         0.9114405523048166,
         -0.8917443544442661,
         2.179373559537019,
         -0.8156154281307707,
         -0.06837663738924213,
         -0.7991589223106242,
         -0.6694639475666694,
         1.4289830255436031,
         -0.12500818669554464,
         1.5542785516363444,
         1.0002735071543785,
         -0.5261859660357336,
         -0.22714777244144108,
         -0.4061696700195532,
         -0.05483144859212277,
         1.0212705968986198,
         -0.37941784719241817
        ]
       }
      }
     },
     "7e617e0ee2564a2983e3c09ae5172521": {
      "model_module": "bqplot",
      "model_module_version": "^0.3.6",
      "model_name": "LinearScaleModel",
      "state": {
       "allow_padding": false,
       "max": 1,
       "min": 0,
       "stabilized": false
      }
     },
     "8505ce62e4d0447fabcc0723c457dc27": {
      "model_module": "bqplot",
      "model_module_version": "^0.3.6",
      "model_name": "LinearScaleModel",
      "state": {
       "allow_padding": false,
       "max": 1,
       "min": 0,
       "stabilized": false
      }
     },
     "8695f6df56b445b091d17982301e2988": {
      "model_module": "bqplot",
      "model_module_version": "^0.3.6",
      "model_name": "LinearScaleModel",
      "state": {
       "allow_padding": false,
       "max": 1,
       "min": 0,
       "stabilized": false
      }
     },
     "891e58ac74e644e49be3dd389fceb176": {
      "model_module": "bqplot",
      "model_module_version": "^0.3.6",
      "model_name": "FigureModel",
      "state": {
       "_dom_classes": [],
       "axes": [
        "IPY_MODEL_ddfc88e60999477c8ee8de7fce3febb0",
        "IPY_MODEL_5a5d425f03f649c5844819450e5747f6"
       ],
       "layout": "IPY_MODEL_a60813c928074a349260d21a687bfacf",
       "marks": [
        "IPY_MODEL_110e71c6d9c44035ba5ecaad83e2e6b6"
       ],
       "max_aspect_ratio": 6,
       "scale_x": "IPY_MODEL_8505ce62e4d0447fabcc0723c457dc27",
       "scale_y": "IPY_MODEL_40a790daf9d54494bc5f3fc0e58eb320"
      }
     },
     "8a18d913dcd0437fafbd88142e911f09": {
      "model_module": "bqplot",
      "model_module_version": "^0.3.6",
      "model_name": "LinearScaleModel",
      "state": {
       "allow_padding": false,
       "max": 1,
       "min": 0,
       "stabilized": false
      }
     },
     "8ed9d1ae04984c7e87a825c90bf92220": {
      "model_module": "bqplot",
      "model_module_version": "^0.3.6",
      "model_name": "ScatterModel",
      "state": {
       "_model_module": "bqplot",
       "_model_module_version": "^0.3.6",
       "_view_count": null,
       "_view_module": "bqplot",
       "_view_module_version": "^0.3.6",
       "apply_clip": true,
       "color": {
        "type": null,
        "values": null
       },
       "colors": [
        "dodgerblue"
       ],
       "display_legend": false,
       "display_names": false,
       "enable_hover": true,
       "hovered_style": {},
       "interactions": {
        "hover": "tooltip"
       },
       "labels": [],
       "names": {
        "type": "float",
        "values": [
         100,
         101,
         102,
         103,
         104,
         105,
         106,
         107,
         108,
         109,
         110,
         111,
         112,
         113,
         114,
         115,
         116,
         117,
         118,
         119,
         120,
         121,
         122,
         123,
         124,
         125,
         126,
         127,
         128,
         129,
         130,
         131,
         132,
         133,
         134,
         135,
         136,
         137,
         138,
         139,
         140,
         141,
         142,
         143,
         144,
         145,
         146,
         147,
         148,
         149,
         150,
         151,
         152,
         153,
         154,
         155,
         156,
         157,
         158,
         159,
         160,
         161,
         162,
         163,
         164,
         165,
         166,
         167,
         168,
         169,
         170,
         171,
         172,
         173,
         174,
         175,
         176,
         177,
         178,
         179,
         180,
         181,
         182,
         183,
         184,
         185,
         186,
         187,
         188,
         189,
         190,
         191,
         192,
         193,
         194,
         195,
         196,
         197,
         198,
         199
        ]
       },
       "names_unique": false,
       "opacity": {
        "type": null,
        "values": null
       },
       "preserve_domain": {},
       "rotation": {
        "type": null,
        "values": null
       },
       "scales": {
        "x": "IPY_MODEL_1de7c9c59985458b8232b79ff6e4b4f6",
        "y": "IPY_MODEL_1b8a8761b02d4e999b11d544afab2ebe"
       },
       "scales_metadata": {
        "color": {
         "dimension": "color"
        },
        "opacity": {
         "dimension": "opacity"
        },
        "rotation": {
         "dimension": "rotation"
        },
        "size": {
         "dimension": "size"
        },
        "skew": {
         "dimension": "skew"
        },
        "x": {
         "dimension": "x",
         "orientation": "horizontal"
        },
        "y": {
         "dimension": "y",
         "orientation": "vertical"
        }
       },
       "selected": [],
       "selected_style": {},
       "size": {
        "type": null,
        "values": null
       },
       "skew": {
        "type": null,
        "values": null
       },
       "tooltip": "IPY_MODEL_741c2e519cde42deaec37088694fcca9",
       "tooltip_location": "mouse",
       "tooltip_style": {
        "opacity": 0.9
       },
       "unhovered_style": {},
       "unselected_style": {},
       "visible": true,
       "x": {
        "type": "float",
        "values": [
         0,
         1,
         2,
         3,
         4,
         5,
         6,
         7,
         8,
         9,
         10,
         11,
         12,
         13,
         14,
         15,
         16,
         17,
         18,
         19
        ]
       },
       "y": {
        "type": "float",
        "values": [
         0.3111638792413969,
         -0.45661502572910373,
         -0.88549401712241,
         -0.9129893504408103,
         0.056204572282259675,
         1.4254031309340138,
         -1.3089194327649412,
         -0.3677665894439818,
         1.1914528765068795,
         -0.15865096854504543,
         0.2610554597050421,
         0.6587733765565524,
         -0.27749934759078787,
         0.4811405832615223,
         -0.8118039359295759,
         1.843492015890862,
         0.805014771643921,
         0.7805858954883722,
         1.5958979808019333,
         -0.12245368710239277
        ]
       }
      }
     },
     "935ccff93ce24a4690261c417505af08": {
      "model_module": "bqplot",
      "model_module_version": "^0.3.6",
      "model_name": "LinearScaleModel",
      "state": {
       "stabilized": false
      }
     },
     "93af345316ef40ba98706b5903ed9714": {
      "model_module": "bqplot",
      "model_module_version": "^0.3.6",
      "model_name": "TooltipModel",
      "state": {
       "fields": [
        "x",
        "y",
        "name"
       ],
       "layout": "IPY_MODEL_e4f0c5f2318b428d8e997b5d66d9bbc0"
      }
     },
     "93e48c1b473c4e4182103f3a70df4cd3": {
      "model_module": "bqplot",
      "model_module_version": "^0.3.6",
      "model_name": "DateScaleModel",
      "state": {
       "min": "2006-12-20T00:00:00.000000"
      }
     },
     "9820d84594ed4cdcadf180b10786bb68": {
      "model_module": "bqplot",
      "model_module_version": "^0.3.6",
      "model_name": "LinearScaleModel",
      "state": {
       "stabilized": false
      }
     },
     "9d99178dd9f24e05aeb3f17895df9407": {
      "model_module": "bqplot",
      "model_module_version": "^0.3.6",
      "model_name": "AxisModel",
      "state": {
       "scale": "IPY_MODEL_0dd268eabaa4444fb152d4acd36b6127",
       "side": "bottom",
       "tick_values": {
        "type": null,
        "values": null
       }
      }
     },
     "a201a335579640589650e0229ee03e1f": {
      "model_module": "@jupyter-widgets/base",
      "model_module_version": "1.0.0",
      "model_name": "LayoutModel",
      "state": {
       "min_width": "125px"
      }
     },
     "a3e35882d56247efa9b2935f839a4c62": {
      "model_module": "bqplot",
      "model_module_version": "^0.3.6",
      "model_name": "LinearScaleModel",
      "state": {
       "allow_padding": false,
       "max": 1,
       "min": 0,
       "stabilized": false
      }
     },
     "a60813c928074a349260d21a687bfacf": {
      "model_module": "@jupyter-widgets/base",
      "model_module_version": "1.0.0",
      "model_name": "LayoutModel",
      "state": {
       "min_width": "125px"
      }
     },
     "a7e00af33a9a4fd5a9e31ba1973bc7c5": {
      "model_module": "@jupyter-widgets/base",
      "model_module_version": "1.0.0",
      "model_name": "LayoutModel",
      "state": {
       "min_width": "125px"
      }
     },
     "aaca16f32996402ea17dd617f06e9aa1": {
      "model_module": "bqplot",
      "model_module_version": "^0.3.6",
      "model_name": "FigureModel",
      "state": {
       "_dom_classes": [],
       "axes": [
        "IPY_MODEL_d37e09898f7644269b419f1e71004042",
        "IPY_MODEL_bfa97a00d89947ceac169476abd3b297"
       ],
       "interaction": "IPY_MODEL_be37300a5568455195c1b3d8fd26fcaa",
       "layout": "IPY_MODEL_a201a335579640589650e0229ee03e1f",
       "marks": [
        "IPY_MODEL_bdd5107cf66743288f33c98d1ea51511"
       ],
       "max_aspect_ratio": 6,
       "scale_x": "IPY_MODEL_225db8719e1d4ae0aaa5fb86cc223cc7",
       "scale_y": "IPY_MODEL_08f18f90147b441cadae7c527d07f5d5",
       "title": "Brush Selector Selected Indices Example"
      }
     },
     "aae6806199394c0b915073fbea2f9490": {
      "model_module": "bqplot",
      "model_module_version": "^0.3.6",
      "model_name": "TooltipModel",
      "state": {
       "fields": [
        "x",
        "y",
        "name"
       ],
       "layout": "IPY_MODEL_6c3c1c75329b4434a4f1a8b4229e69e7"
      }
     },
     "b1a3e13d5b504118b76efa9d3860f9e5": {
      "model_module": "@jupyter-widgets/controls",
      "model_module_version": "1.1.0",
      "model_name": "HTMLModel",
      "state": {
       "layout": "IPY_MODEL_50a27d7e1b7740f0a23074f80a0bf83d",
       "style": "IPY_MODEL_39420727fdef4467b94744754469ac19",
       "value": "None"
      }
     },
     "b39c1ddaf4304f3e85f05d6ecbd408ad": {
      "model_module": "@jupyter-widgets/base",
      "model_module_version": "1.0.0",
      "model_name": "LayoutModel",
      "state": {}
     },
     "b3d11c26653246f2ad9c6fc152764b61": {
      "model_module": "bqplot",
      "model_module_version": "^0.3.6",
      "model_name": "LinearScaleModel",
      "state": {
       "stabilized": false
      }
     },
     "b971af62a7b2454888397bd8ef151a67": {
      "model_module": "@jupyter-widgets/base",
      "model_module_version": "1.0.0",
      "model_name": "LayoutModel",
      "state": {
       "min_width": "125px"
      }
     },
     "bdd5107cf66743288f33c98d1ea51511": {
      "model_module": "bqplot",
      "model_module_version": "^0.3.6",
      "model_name": "LinesModel",
      "state": {
       "color": {
        "type": null,
        "values": null
       },
       "display_legend": false,
       "fill_colors": [],
       "labels": [
        "C1"
       ],
       "scales": {
        "x": "IPY_MODEL_565bd3d8033d44a5b87d1f1f93c2478b",
        "y": "IPY_MODEL_935ccff93ce24a4690261c417505af08"
       },
       "x": {
        "type": "date",
        "values": [
         "2007-01-01T00:00:00.000000",
         "2007-01-02T00:00:00.000000",
         "2007-01-03T00:00:00.000000",
         "2007-01-04T00:00:00.000000",
         "2007-01-05T00:00:00.000000",
         "2007-01-06T00:00:00.000000",
         "2007-01-07T00:00:00.000000",
         "2007-01-08T00:00:00.000000",
         "2007-01-09T00:00:00.000000",
         "2007-01-10T00:00:00.000000",
         "2007-01-11T00:00:00.000000",
         "2007-01-12T00:00:00.000000",
         "2007-01-13T00:00:00.000000",
         "2007-01-14T00:00:00.000000",
         "2007-01-15T00:00:00.000000",
         "2007-01-16T00:00:00.000000",
         "2007-01-17T00:00:00.000000",
         "2007-01-18T00:00:00.000000",
         "2007-01-19T00:00:00.000000",
         "2007-01-20T00:00:00.000000",
         "2007-01-21T00:00:00.000000",
         "2007-01-22T00:00:00.000000",
         "2007-01-23T00:00:00.000000",
         "2007-01-24T00:00:00.000000",
         "2007-01-25T00:00:00.000000",
         "2007-01-26T00:00:00.000000",
         "2007-01-27T00:00:00.000000",
         "2007-01-28T00:00:00.000000",
         "2007-01-29T00:00:00.000000",
         "2007-01-30T00:00:00.000000",
         "2007-01-31T00:00:00.000000",
         "2007-02-01T00:00:00.000000",
         "2007-02-02T00:00:00.000000",
         "2007-02-03T00:00:00.000000",
         "2007-02-04T00:00:00.000000",
         "2007-02-05T00:00:00.000000",
         "2007-02-06T00:00:00.000000",
         "2007-02-07T00:00:00.000000",
         "2007-02-08T00:00:00.000000",
         "2007-02-09T00:00:00.000000",
         "2007-02-10T00:00:00.000000",
         "2007-02-11T00:00:00.000000",
         "2007-02-12T00:00:00.000000",
         "2007-02-13T00:00:00.000000",
         "2007-02-14T00:00:00.000000",
         "2007-02-15T00:00:00.000000",
         "2007-02-16T00:00:00.000000",
         "2007-02-17T00:00:00.000000",
         "2007-02-18T00:00:00.000000",
         "2007-02-19T00:00:00.000000"
        ]
       },
       "y": {
        "type": "float",
        "values": [
         -13.459304063745737,
         -9.379642122659334,
         -26.28948736761592,
         -6.618435339144767,
         -67.48559157499744,
         -45.80436081526329,
         -163.27189248646096,
         -217.70037470073635,
         -197.4112483955671,
         -236.4843861110224,
         -233.21662076933416,
         -198.96404468530147,
         -254.92426176372567,
         -280.4432175889711,
         -281.0922494362565,
         -237.62907740799906,
         -130.30473205312754,
         -34.463071348631686,
         3.936901137187583,
         -182.14098659633203,
         -141.2925233358138,
         -38.63244926981787,
         36.16083685651053,
         -65.93444587684264,
         -175.29499857481028,
         -212.03649625679043,
         -409.5662186493083,
         -318.29804495992386,
         -460.0190438492233,
         -534.7582496126909,
         -352.57220981040257,
         -473.85321692303455,
         -511.9680812215061,
         -471.2733762923256,
         -551.440343065636,
         -675.895315718687,
         -613.1266792806006,
         -591.4019959107277,
         -604.9323201125093,
         -545.5434632969487,
         -355.8186699848743,
         -478.6644683883314,
         -551.447178220108,
         -507.78209385183743,
         -341.9406310930243,
         -622.9861736148966,
         -704.5918671323213,
         -747.2798736547959,
         -750.3384351463358,
         -779.8357745945216
        ]
       }
      }
     },
     "be37300a5568455195c1b3d8fd26fcaa": {
      "model_module": "bqplot",
      "model_module_version": "^0.3.6",
      "model_name": "BrushIntervalSelectorModel",
      "state": {
       "color": "FireBrick",
       "marks": [
        "IPY_MODEL_bdd5107cf66743288f33c98d1ea51511"
       ],
       "scale": "IPY_MODEL_565bd3d8033d44a5b87d1f1f93c2478b",
       "selected": {
        "type": "object",
        "values": []
       }
      }
     },
     "bfa97a00d89947ceac169476abd3b297": {
      "model_module": "bqplot",
      "model_module_version": "^0.3.6",
      "model_name": "AxisModel",
      "state": {
       "label": "Profit",
       "orientation": "vertical",
       "scale": "IPY_MODEL_935ccff93ce24a4690261c417505af08",
       "side": "left",
       "tick_values": {
        "type": null,
        "values": null
       }
      }
     },
     "c11a56b6e7544fb6acdc18bb5c34cf18": {
      "model_module": "bqplot",
      "model_module_version": "^0.3.6",
      "model_name": "LinearScaleModel",
      "state": {
       "stabilized": false
      }
     },
     "c7490d79a21845bd950d36c5a99d9671": {
      "model_module": "@jupyter-widgets/base",
      "model_module_version": "1.0.0",
      "model_name": "LayoutModel",
      "state": {}
     },
     "c8cf2b5e2e8f431ca0839a7683aa4a34": {
      "model_module": "bqplot",
      "model_module_version": "^0.3.6",
      "model_name": "FigureModel",
      "state": {
       "_dom_classes": [],
       "axes": [
        "IPY_MODEL_1b20a5bc8f954dff9ab1917803f9448c",
        "IPY_MODEL_06cb0179969d4682b27160047439235f"
       ],
       "layout": "IPY_MODEL_a7e00af33a9a4fd5a9e31ba1973bc7c5",
       "marks": [
        "IPY_MODEL_8ed9d1ae04984c7e87a825c90bf92220",
        "IPY_MODEL_476567d8082045878895486f1f3c5056"
       ],
       "max_aspect_ratio": 6,
       "scale_x": "IPY_MODEL_d11017ce60894513898f60e4898822c4",
       "scale_y": "IPY_MODEL_05136e921dee4128b4a959433144d043"
      }
     },
     "cce14ffb71ef4e938e8f15993873c9be": {
      "model_module": "bqplot",
      "model_module_version": "^0.3.6",
      "model_name": "AxisModel",
      "state": {
       "label": "Date",
       "scale": "IPY_MODEL_93e48c1b473c4e4182103f3a70df4cd3",
       "side": "bottom",
       "tick_values": {
        "type": null,
        "values": null
       }
      }
     },
     "d11017ce60894513898f60e4898822c4": {
      "model_module": "bqplot",
      "model_module_version": "^0.3.6",
      "model_name": "LinearScaleModel",
      "state": {
       "allow_padding": false,
       "max": 1,
       "min": 0,
       "stabilized": false
      }
     },
     "d37e09898f7644269b419f1e71004042": {
      "model_module": "bqplot",
      "model_module_version": "^0.3.6",
      "model_name": "AxisModel",
      "state": {
       "label": "Date",
       "scale": "IPY_MODEL_565bd3d8033d44a5b87d1f1f93c2478b",
       "side": "bottom",
       "tick_values": {
        "type": null,
        "values": null
       }
      }
     },
     "d68cf9e069b5472e827e6233ba97c16e": {
      "model_module": "bqplot",
      "model_module_version": "^0.3.6",
      "model_name": "FigureModel",
      "state": {
       "_dom_classes": [],
       "axes": [
        "IPY_MODEL_cce14ffb71ef4e938e8f15993873c9be",
        "IPY_MODEL_0b2ea4f569544cfeb8f5f23d4d2f2865"
       ],
       "interaction": "IPY_MODEL_7170e6271989468c909e31d2a9ab26a8",
       "layout": "IPY_MODEL_39ffd4e1372d4141aa0de1d6cd39a77d",
       "marks": [
        "IPY_MODEL_71ea1694d4d745b6914e58ad68e0f1aa"
       ],
       "max_aspect_ratio": 6,
       "scale_x": "IPY_MODEL_726366c2217f4605875a609b00941e7d",
       "scale_y": "IPY_MODEL_7e617e0ee2564a2983e3c09ae5172521",
       "title": "Brush Selector Selected Indices Example"
      }
     },
     "d9f9aeb194f44549b9d678c03f0e2a34": {
      "model_module": "bqplot",
      "model_module_version": "^0.3.6",
      "model_name": "LinearScaleModel",
      "state": {
       "allow_padding": false,
       "max": 1,
       "min": 0,
       "stabilized": false
      }
     },
     "dd8567ffd4a640a394f9877b67178145": {
      "model_module": "bqplot",
      "model_module_version": "^0.3.6",
      "model_name": "TooltipModel",
      "state": {
       "fields": [
        "x",
        "y",
        "name"
       ],
       "layout": "IPY_MODEL_2c7dfabc8b7749ac939474c763e4b0f2"
      }
     },
     "ddfc88e60999477c8ee8de7fce3febb0": {
      "model_module": "bqplot",
      "model_module_version": "^0.3.6",
      "model_name": "AxisModel",
      "state": {
       "scale": "IPY_MODEL_28fef768c8614e0ca56327bb6b50cd85",
       "side": "bottom",
       "tick_values": {
        "type": null,
        "values": null
       }
      }
     },
     "e1b77aafc51d419a87cce6c5fa20f98d": {
      "model_module": "bqplot",
      "model_module_version": "^0.3.6",
      "model_name": "LinearScaleModel",
      "state": {
       "allow_padding": false,
       "max": 1,
       "min": 0,
       "stabilized": false
      }
     },
     "e2ead698e1a942cf9281e2c582efde5c": {
      "model_module": "bqplot",
      "model_module_version": "^0.3.6",
      "model_name": "ScatterModel",
      "state": {
       "_model_module": "bqplot",
       "_model_module_version": "^0.3.6",
       "_view_count": null,
       "_view_module": "bqplot",
       "_view_module_version": "^0.3.6",
       "apply_clip": true,
       "color": {
        "type": null,
        "values": null
       },
       "colors": [
        "dodgerblue"
       ],
       "display_legend": false,
       "display_names": false,
       "enable_hover": true,
       "hovered_style": {},
       "interactions": {
        "hover": "tooltip"
       },
       "labels": [],
       "names": {
        "type": "float",
        "values": [
         100,
         101,
         102,
         103,
         104,
         105,
         106,
         107,
         108,
         109,
         110,
         111,
         112,
         113,
         114,
         115,
         116,
         117,
         118,
         119,
         120,
         121,
         122,
         123,
         124,
         125,
         126,
         127,
         128,
         129,
         130,
         131,
         132,
         133,
         134,
         135,
         136,
         137,
         138,
         139,
         140,
         141,
         142,
         143,
         144,
         145,
         146,
         147,
         148,
         149,
         150,
         151,
         152,
         153,
         154,
         155,
         156,
         157,
         158,
         159,
         160,
         161,
         162,
         163,
         164,
         165,
         166,
         167,
         168,
         169,
         170,
         171,
         172,
         173,
         174,
         175,
         176,
         177,
         178,
         179,
         180,
         181,
         182,
         183,
         184,
         185,
         186,
         187,
         188,
         189,
         190,
         191,
         192,
         193,
         194,
         195,
         196,
         197,
         198,
         199
        ]
       },
       "names_unique": false,
       "opacity": {
        "type": null,
        "values": null
       },
       "preserve_domain": {},
       "rotation": {
        "type": null,
        "values": null
       },
       "scales": {
        "x": "IPY_MODEL_0dd268eabaa4444fb152d4acd36b6127",
        "y": "IPY_MODEL_c11a56b6e7544fb6acdc18bb5c34cf18"
       },
       "scales_metadata": {
        "color": {
         "dimension": "color"
        },
        "opacity": {
         "dimension": "opacity"
        },
        "rotation": {
         "dimension": "rotation"
        },
        "size": {
         "dimension": "size"
        },
        "skew": {
         "dimension": "skew"
        },
        "x": {
         "dimension": "x",
         "orientation": "horizontal"
        },
        "y": {
         "dimension": "y",
         "orientation": "vertical"
        }
       },
       "selected": [],
       "selected_style": {},
       "size": {
        "type": null,
        "values": null
       },
       "skew": {
        "type": null,
        "values": null
       },
       "tooltip": "IPY_MODEL_dd8567ffd4a640a394f9877b67178145",
       "tooltip_location": "mouse",
       "tooltip_style": {
        "opacity": 0.9
       },
       "unhovered_style": {},
       "unselected_style": {},
       "visible": true,
       "x": {
        "type": "float",
        "values": [
         0,
         1,
         2,
         3,
         4,
         5,
         6,
         7,
         8,
         9,
         10,
         11,
         12,
         13,
         14,
         15,
         16,
         17,
         18,
         19
        ]
       },
       "y": {
        "type": "float",
        "values": [
         2.100135901533481,
         1.2310876841219476,
         -1.63065834878569,
         -0.8407423269486956,
         1.065246855645569,
         -0.5007869714084217,
         -0.2338547785502582,
         0.055169119455542794,
         -1.3104723915412562,
         -0.25623408959038174,
         0.6794067017019392,
         -1.6137122843971972,
         2.5477059792008516,
         0.27670263916868065,
         0.2861283666539702,
         0.3037110376101146,
         -0.2122033101975229,
         0.18436505003441295,
         -0.9466503903653908,
         0.602936957192146
        ]
       }
      }
     },
     "e4f0c5f2318b428d8e997b5d66d9bbc0": {
      "model_module": "@jupyter-widgets/base",
      "model_module_version": "1.0.0",
      "model_name": "LayoutModel",
      "state": {}
     },
     "f2acd6e70c484a80b24d0ca37f934e26": {
      "model_module": "@jupyter-widgets/base",
      "model_module_version": "1.0.0",
      "model_name": "LayoutModel",
      "state": {}
     },
     "fb1ae0e1375f4c988090b749f6a0c343": {
      "model_module": "bqplot",
      "model_module_version": "^0.3.6",
      "model_name": "LinearScaleModel",
      "state": {
       "allow_padding": false,
       "max": 1,
       "min": 0,
       "stabilized": false
      }
     }
    },
    "version_major": 2,
    "version_minor": 0
   }
  }
 },
 "nbformat": 4,
 "nbformat_minor": 2
}
